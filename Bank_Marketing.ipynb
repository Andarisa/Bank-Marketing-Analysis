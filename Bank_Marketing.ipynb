{
 "cells": [
  {
   "cell_type": "markdown",
   "metadata": {},
   "source": [
    "## Bank Marketing."
   ]
  },
  {
   "cell_type": "code",
   "execution_count": 1,
   "metadata": {},
   "outputs": [],
   "source": [
    "import pandas as pd\n",
    "import numpy as np\n",
    "import seaborn as sns\n",
    "import matplotlib.pyplot as plt\n",
    "import random\n",
    "from sklearn.preprocessing import LabelEncoder\n",
    "from sklearn.preprocessing import OrdinalEncoder\n",
    "from sklearn.preprocessing import StandardScaler\n",
    "from sklearn.model_selection import train_test_split\n",
    "from sklearn.model_selection import RandomizedSearchCV\n",
    "from sklearn.model_selection import cross_val_score\n",
    "from sklearn.neighbors import KNeighborsClassifier\n",
    "from sklearn.linear_model import LogisticRegression\n",
    "from sklearn import tree\n",
    "from sklearn.ensemble import RandomForestClassifier\n",
    "from sklearn.metrics import (confusion_matrix,\n",
    "plot_confusion_matrix,\n",
    "classification_report,\n",
    "balanced_accuracy_score,\n",
    "precision_score, precision_recall_curve,\n",
    "f1_score,\n",
    "fbeta_score,\n",
    "recall_score,\n",
    "roc_curve, roc_auc_score)\n",
    "import joblib"
   ]
  },
  {
   "cell_type": "code",
   "execution_count": 2,
   "metadata": {},
   "outputs": [
    {
     "data": {
      "text/html": [
       "<div>\n",
       "<style scoped>\n",
       "    .dataframe tbody tr th:only-of-type {\n",
       "        vertical-align: middle;\n",
       "    }\n",
       "\n",
       "    .dataframe tbody tr th {\n",
       "        vertical-align: top;\n",
       "    }\n",
       "\n",
       "    .dataframe thead th {\n",
       "        text-align: right;\n",
       "    }\n",
       "</style>\n",
       "<table border=\"1\" class=\"dataframe\">\n",
       "  <thead>\n",
       "    <tr style=\"text-align: right;\">\n",
       "      <th></th>\n",
       "      <th>job</th>\n",
       "      <th>marital</th>\n",
       "      <th>education</th>\n",
       "      <th>default</th>\n",
       "      <th>balance</th>\n",
       "      <th>housing</th>\n",
       "      <th>loan</th>\n",
       "      <th>contact</th>\n",
       "      <th>day</th>\n",
       "      <th>month</th>\n",
       "      <th>duration</th>\n",
       "      <th>campaign</th>\n",
       "      <th>previous</th>\n",
       "      <th>age_group</th>\n",
       "      <th>pdays_group</th>\n",
       "      <th>Deposit</th>\n",
       "    </tr>\n",
       "  </thead>\n",
       "  <tbody>\n",
       "    <tr>\n",
       "      <th>0</th>\n",
       "      <td>management</td>\n",
       "      <td>married</td>\n",
       "      <td>tertiary</td>\n",
       "      <td>no</td>\n",
       "      <td>2143</td>\n",
       "      <td>yes</td>\n",
       "      <td>no</td>\n",
       "      <td>cellular</td>\n",
       "      <td>5</td>\n",
       "      <td>may</td>\n",
       "      <td>261</td>\n",
       "      <td>1</td>\n",
       "      <td>0</td>\n",
       "      <td>55-64</td>\n",
       "      <td>Not Previously Contacted</td>\n",
       "      <td>0</td>\n",
       "    </tr>\n",
       "    <tr>\n",
       "      <th>1</th>\n",
       "      <td>technician</td>\n",
       "      <td>single</td>\n",
       "      <td>secondary</td>\n",
       "      <td>no</td>\n",
       "      <td>29</td>\n",
       "      <td>yes</td>\n",
       "      <td>no</td>\n",
       "      <td>cellular</td>\n",
       "      <td>5</td>\n",
       "      <td>may</td>\n",
       "      <td>151</td>\n",
       "      <td>1</td>\n",
       "      <td>0</td>\n",
       "      <td>35-44</td>\n",
       "      <td>Not Previously Contacted</td>\n",
       "      <td>0</td>\n",
       "    </tr>\n",
       "    <tr>\n",
       "      <th>2</th>\n",
       "      <td>entrepreneur</td>\n",
       "      <td>married</td>\n",
       "      <td>secondary</td>\n",
       "      <td>no</td>\n",
       "      <td>2</td>\n",
       "      <td>yes</td>\n",
       "      <td>yes</td>\n",
       "      <td>cellular</td>\n",
       "      <td>5</td>\n",
       "      <td>may</td>\n",
       "      <td>76</td>\n",
       "      <td>1</td>\n",
       "      <td>0</td>\n",
       "      <td>25-34</td>\n",
       "      <td>Not Previously Contacted</td>\n",
       "      <td>0</td>\n",
       "    </tr>\n",
       "    <tr>\n",
       "      <th>3</th>\n",
       "      <td>management</td>\n",
       "      <td>married</td>\n",
       "      <td>tertiary</td>\n",
       "      <td>no</td>\n",
       "      <td>231</td>\n",
       "      <td>yes</td>\n",
       "      <td>no</td>\n",
       "      <td>cellular</td>\n",
       "      <td>5</td>\n",
       "      <td>may</td>\n",
       "      <td>139</td>\n",
       "      <td>1</td>\n",
       "      <td>0</td>\n",
       "      <td>35-44</td>\n",
       "      <td>Not Previously Contacted</td>\n",
       "      <td>0</td>\n",
       "    </tr>\n",
       "    <tr>\n",
       "      <th>4</th>\n",
       "      <td>management</td>\n",
       "      <td>single</td>\n",
       "      <td>tertiary</td>\n",
       "      <td>no</td>\n",
       "      <td>447</td>\n",
       "      <td>yes</td>\n",
       "      <td>yes</td>\n",
       "      <td>cellular</td>\n",
       "      <td>5</td>\n",
       "      <td>may</td>\n",
       "      <td>217</td>\n",
       "      <td>1</td>\n",
       "      <td>0</td>\n",
       "      <td>25-34</td>\n",
       "      <td>Not Previously Contacted</td>\n",
       "      <td>0</td>\n",
       "    </tr>\n",
       "    <tr>\n",
       "      <th>...</th>\n",
       "      <td>...</td>\n",
       "      <td>...</td>\n",
       "      <td>...</td>\n",
       "      <td>...</td>\n",
       "      <td>...</td>\n",
       "      <td>...</td>\n",
       "      <td>...</td>\n",
       "      <td>...</td>\n",
       "      <td>...</td>\n",
       "      <td>...</td>\n",
       "      <td>...</td>\n",
       "      <td>...</td>\n",
       "      <td>...</td>\n",
       "      <td>...</td>\n",
       "      <td>...</td>\n",
       "      <td>...</td>\n",
       "    </tr>\n",
       "    <tr>\n",
       "      <th>43188</th>\n",
       "      <td>technician</td>\n",
       "      <td>married</td>\n",
       "      <td>tertiary</td>\n",
       "      <td>no</td>\n",
       "      <td>825</td>\n",
       "      <td>no</td>\n",
       "      <td>no</td>\n",
       "      <td>cellular</td>\n",
       "      <td>17</td>\n",
       "      <td>nov</td>\n",
       "      <td>977</td>\n",
       "      <td>3</td>\n",
       "      <td>0</td>\n",
       "      <td>45-54</td>\n",
       "      <td>Not Previously Contacted</td>\n",
       "      <td>1</td>\n",
       "    </tr>\n",
       "    <tr>\n",
       "      <th>43189</th>\n",
       "      <td>retired</td>\n",
       "      <td>divorced</td>\n",
       "      <td>primary</td>\n",
       "      <td>no</td>\n",
       "      <td>1729</td>\n",
       "      <td>no</td>\n",
       "      <td>no</td>\n",
       "      <td>cellular</td>\n",
       "      <td>17</td>\n",
       "      <td>nov</td>\n",
       "      <td>456</td>\n",
       "      <td>2</td>\n",
       "      <td>0</td>\n",
       "      <td>65+</td>\n",
       "      <td>Not Previously Contacted</td>\n",
       "      <td>1</td>\n",
       "    </tr>\n",
       "    <tr>\n",
       "      <th>43190</th>\n",
       "      <td>retired</td>\n",
       "      <td>married</td>\n",
       "      <td>secondary</td>\n",
       "      <td>no</td>\n",
       "      <td>5715</td>\n",
       "      <td>no</td>\n",
       "      <td>no</td>\n",
       "      <td>cellular</td>\n",
       "      <td>17</td>\n",
       "      <td>nov</td>\n",
       "      <td>1127</td>\n",
       "      <td>5</td>\n",
       "      <td>3</td>\n",
       "      <td>65+</td>\n",
       "      <td>144 to 282 days</td>\n",
       "      <td>1</td>\n",
       "    </tr>\n",
       "    <tr>\n",
       "      <th>43191</th>\n",
       "      <td>blue-collar</td>\n",
       "      <td>married</td>\n",
       "      <td>secondary</td>\n",
       "      <td>no</td>\n",
       "      <td>668</td>\n",
       "      <td>no</td>\n",
       "      <td>no</td>\n",
       "      <td>telephone</td>\n",
       "      <td>17</td>\n",
       "      <td>nov</td>\n",
       "      <td>508</td>\n",
       "      <td>4</td>\n",
       "      <td>0</td>\n",
       "      <td>55-64</td>\n",
       "      <td>Not Previously Contacted</td>\n",
       "      <td>0</td>\n",
       "    </tr>\n",
       "    <tr>\n",
       "      <th>43192</th>\n",
       "      <td>entrepreneur</td>\n",
       "      <td>married</td>\n",
       "      <td>secondary</td>\n",
       "      <td>no</td>\n",
       "      <td>2971</td>\n",
       "      <td>no</td>\n",
       "      <td>no</td>\n",
       "      <td>cellular</td>\n",
       "      <td>17</td>\n",
       "      <td>nov</td>\n",
       "      <td>361</td>\n",
       "      <td>2</td>\n",
       "      <td>11</td>\n",
       "      <td>35-44</td>\n",
       "      <td>144 to 282 days</td>\n",
       "      <td>0</td>\n",
       "    </tr>\n",
       "  </tbody>\n",
       "</table>\n",
       "<p>43193 rows × 16 columns</p>\n",
       "</div>"
      ],
      "text/plain": [
       "                job   marital  education default  balance housing loan  \\\n",
       "0        management   married   tertiary      no     2143     yes   no   \n",
       "1        technician    single  secondary      no       29     yes   no   \n",
       "2      entrepreneur   married  secondary      no        2     yes  yes   \n",
       "3        management   married   tertiary      no      231     yes   no   \n",
       "4        management    single   tertiary      no      447     yes  yes   \n",
       "...             ...       ...        ...     ...      ...     ...  ...   \n",
       "43188    technician   married   tertiary      no      825      no   no   \n",
       "43189       retired  divorced    primary      no     1729      no   no   \n",
       "43190       retired   married  secondary      no     5715      no   no   \n",
       "43191   blue-collar   married  secondary      no      668      no   no   \n",
       "43192  entrepreneur   married  secondary      no     2971      no   no   \n",
       "\n",
       "         contact  day month  duration  campaign  previous age_group  \\\n",
       "0       cellular    5   may       261         1         0     55-64   \n",
       "1       cellular    5   may       151         1         0     35-44   \n",
       "2       cellular    5   may        76         1         0     25-34   \n",
       "3       cellular    5   may       139         1         0     35-44   \n",
       "4       cellular    5   may       217         1         0     25-34   \n",
       "...          ...  ...   ...       ...       ...       ...       ...   \n",
       "43188   cellular   17   nov       977         3         0     45-54   \n",
       "43189   cellular   17   nov       456         2         0       65+   \n",
       "43190   cellular   17   nov      1127         5         3       65+   \n",
       "43191  telephone   17   nov       508         4         0     55-64   \n",
       "43192   cellular   17   nov       361         2        11     35-44   \n",
       "\n",
       "                    pdays_group  Deposit  \n",
       "0      Not Previously Contacted        0  \n",
       "1      Not Previously Contacted        0  \n",
       "2      Not Previously Contacted        0  \n",
       "3      Not Previously Contacted        0  \n",
       "4      Not Previously Contacted        0  \n",
       "...                         ...      ...  \n",
       "43188  Not Previously Contacted        1  \n",
       "43189  Not Previously Contacted        1  \n",
       "43190           144 to 282 days        1  \n",
       "43191  Not Previously Contacted        0  \n",
       "43192           144 to 282 days        0  \n",
       "\n",
       "[43193 rows x 16 columns]"
      ]
     },
     "execution_count": 2,
     "metadata": {},
     "output_type": "execute_result"
    }
   ],
   "source": [
    "df = pd.read_csv('Bank_Modelling.csv')\n",
    "\n",
    "df"
   ]
  },
  {
   "cell_type": "markdown",
   "metadata": {},
   "source": [
    "## Standardization"
   ]
  },
  {
   "cell_type": "code",
   "execution_count": 3,
   "metadata": {},
   "outputs": [],
   "source": [
    "df_std = df.copy()"
   ]
  },
  {
   "cell_type": "code",
   "execution_count": 4,
   "metadata": {},
   "outputs": [],
   "source": [
    "scaler = StandardScaler()"
   ]
  },
  {
   "cell_type": "code",
   "execution_count": 5,
   "metadata": {},
   "outputs": [
    {
     "data": {
      "text/plain": [
       "StandardScaler(copy=True, with_mean=True, with_std=True)"
      ]
     },
     "execution_count": 5,
     "metadata": {},
     "output_type": "execute_result"
    }
   ],
   "source": [
    "scaler.fit(df_std[['balance', 'day', 'duration', 'campaign','previous']])"
   ]
  },
  {
   "cell_type": "code",
   "execution_count": 6,
   "metadata": {},
   "outputs": [
    {
     "data": {
      "text/html": [
       "<div>\n",
       "<style scoped>\n",
       "    .dataframe tbody tr th:only-of-type {\n",
       "        vertical-align: middle;\n",
       "    }\n",
       "\n",
       "    .dataframe tbody tr th {\n",
       "        vertical-align: top;\n",
       "    }\n",
       "\n",
       "    .dataframe thead th {\n",
       "        text-align: right;\n",
       "    }\n",
       "</style>\n",
       "<table border=\"1\" class=\"dataframe\">\n",
       "  <thead>\n",
       "    <tr style=\"text-align: right;\">\n",
       "      <th></th>\n",
       "      <th>job</th>\n",
       "      <th>marital</th>\n",
       "      <th>education</th>\n",
       "      <th>default</th>\n",
       "      <th>balance</th>\n",
       "      <th>housing</th>\n",
       "      <th>loan</th>\n",
       "      <th>contact</th>\n",
       "      <th>day</th>\n",
       "      <th>month</th>\n",
       "      <th>duration</th>\n",
       "      <th>campaign</th>\n",
       "      <th>previous</th>\n",
       "      <th>age_group</th>\n",
       "      <th>pdays_group</th>\n",
       "      <th>Deposit</th>\n",
       "    </tr>\n",
       "  </thead>\n",
       "  <tbody>\n",
       "    <tr>\n",
       "      <th>0</th>\n",
       "      <td>management</td>\n",
       "      <td>married</td>\n",
       "      <td>tertiary</td>\n",
       "      <td>no</td>\n",
       "      <td>0.259354</td>\n",
       "      <td>yes</td>\n",
       "      <td>no</td>\n",
       "      <td>cellular</td>\n",
       "      <td>-1.301418</td>\n",
       "      <td>may</td>\n",
       "      <td>0.010368</td>\n",
       "      <td>-0.573827</td>\n",
       "      <td>-0.250730</td>\n",
       "      <td>55-64</td>\n",
       "      <td>Not Previously Contacted</td>\n",
       "      <td>0</td>\n",
       "    </tr>\n",
       "    <tr>\n",
       "      <th>1</th>\n",
       "      <td>technician</td>\n",
       "      <td>single</td>\n",
       "      <td>secondary</td>\n",
       "      <td>no</td>\n",
       "      <td>-0.435568</td>\n",
       "      <td>yes</td>\n",
       "      <td>no</td>\n",
       "      <td>cellular</td>\n",
       "      <td>-1.301418</td>\n",
       "      <td>may</td>\n",
       "      <td>-0.415726</td>\n",
       "      <td>-0.573827</td>\n",
       "      <td>-0.250730</td>\n",
       "      <td>35-44</td>\n",
       "      <td>Not Previously Contacted</td>\n",
       "      <td>0</td>\n",
       "    </tr>\n",
       "    <tr>\n",
       "      <th>2</th>\n",
       "      <td>entrepreneur</td>\n",
       "      <td>married</td>\n",
       "      <td>secondary</td>\n",
       "      <td>no</td>\n",
       "      <td>-0.444443</td>\n",
       "      <td>yes</td>\n",
       "      <td>yes</td>\n",
       "      <td>cellular</td>\n",
       "      <td>-1.301418</td>\n",
       "      <td>may</td>\n",
       "      <td>-0.706245</td>\n",
       "      <td>-0.573827</td>\n",
       "      <td>-0.250730</td>\n",
       "      <td>25-34</td>\n",
       "      <td>Not Previously Contacted</td>\n",
       "      <td>0</td>\n",
       "    </tr>\n",
       "    <tr>\n",
       "      <th>3</th>\n",
       "      <td>management</td>\n",
       "      <td>married</td>\n",
       "      <td>tertiary</td>\n",
       "      <td>no</td>\n",
       "      <td>-0.369166</td>\n",
       "      <td>yes</td>\n",
       "      <td>no</td>\n",
       "      <td>cellular</td>\n",
       "      <td>-1.301418</td>\n",
       "      <td>may</td>\n",
       "      <td>-0.462209</td>\n",
       "      <td>-0.573827</td>\n",
       "      <td>-0.250730</td>\n",
       "      <td>35-44</td>\n",
       "      <td>Not Previously Contacted</td>\n",
       "      <td>0</td>\n",
       "    </tr>\n",
       "    <tr>\n",
       "      <th>4</th>\n",
       "      <td>management</td>\n",
       "      <td>single</td>\n",
       "      <td>tertiary</td>\n",
       "      <td>no</td>\n",
       "      <td>-0.298161</td>\n",
       "      <td>yes</td>\n",
       "      <td>yes</td>\n",
       "      <td>cellular</td>\n",
       "      <td>-1.301418</td>\n",
       "      <td>may</td>\n",
       "      <td>-0.160070</td>\n",
       "      <td>-0.573827</td>\n",
       "      <td>-0.250730</td>\n",
       "      <td>25-34</td>\n",
       "      <td>Not Previously Contacted</td>\n",
       "      <td>0</td>\n",
       "    </tr>\n",
       "    <tr>\n",
       "      <th>...</th>\n",
       "      <td>...</td>\n",
       "      <td>...</td>\n",
       "      <td>...</td>\n",
       "      <td>...</td>\n",
       "      <td>...</td>\n",
       "      <td>...</td>\n",
       "      <td>...</td>\n",
       "      <td>...</td>\n",
       "      <td>...</td>\n",
       "      <td>...</td>\n",
       "      <td>...</td>\n",
       "      <td>...</td>\n",
       "      <td>...</td>\n",
       "      <td>...</td>\n",
       "      <td>...</td>\n",
       "      <td>...</td>\n",
       "    </tr>\n",
       "    <tr>\n",
       "      <th>43188</th>\n",
       "      <td>technician</td>\n",
       "      <td>married</td>\n",
       "      <td>tertiary</td>\n",
       "      <td>no</td>\n",
       "      <td>-0.173904</td>\n",
       "      <td>no</td>\n",
       "      <td>no</td>\n",
       "      <td>cellular</td>\n",
       "      <td>0.143343</td>\n",
       "      <td>nov</td>\n",
       "      <td>2.783852</td>\n",
       "      <td>0.078925</td>\n",
       "      <td>-0.250730</td>\n",
       "      <td>45-54</td>\n",
       "      <td>Not Previously Contacted</td>\n",
       "      <td>1</td>\n",
       "    </tr>\n",
       "    <tr>\n",
       "      <th>43189</th>\n",
       "      <td>retired</td>\n",
       "      <td>divorced</td>\n",
       "      <td>primary</td>\n",
       "      <td>no</td>\n",
       "      <td>0.123262</td>\n",
       "      <td>no</td>\n",
       "      <td>no</td>\n",
       "      <td>cellular</td>\n",
       "      <td>0.143343</td>\n",
       "      <td>nov</td>\n",
       "      <td>0.765716</td>\n",
       "      <td>-0.247451</td>\n",
       "      <td>-0.250730</td>\n",
       "      <td>65+</td>\n",
       "      <td>Not Previously Contacted</td>\n",
       "      <td>1</td>\n",
       "    </tr>\n",
       "    <tr>\n",
       "      <th>43190</th>\n",
       "      <td>retired</td>\n",
       "      <td>married</td>\n",
       "      <td>secondary</td>\n",
       "      <td>no</td>\n",
       "      <td>1.433555</td>\n",
       "      <td>no</td>\n",
       "      <td>no</td>\n",
       "      <td>cellular</td>\n",
       "      <td>0.143343</td>\n",
       "      <td>nov</td>\n",
       "      <td>3.364890</td>\n",
       "      <td>0.731677</td>\n",
       "      <td>1.035364</td>\n",
       "      <td>65+</td>\n",
       "      <td>144 to 282 days</td>\n",
       "      <td>1</td>\n",
       "    </tr>\n",
       "    <tr>\n",
       "      <th>43191</th>\n",
       "      <td>blue-collar</td>\n",
       "      <td>married</td>\n",
       "      <td>secondary</td>\n",
       "      <td>no</td>\n",
       "      <td>-0.225513</td>\n",
       "      <td>no</td>\n",
       "      <td>no</td>\n",
       "      <td>telephone</td>\n",
       "      <td>0.143343</td>\n",
       "      <td>nov</td>\n",
       "      <td>0.967143</td>\n",
       "      <td>0.405301</td>\n",
       "      <td>-0.250730</td>\n",
       "      <td>55-64</td>\n",
       "      <td>Not Previously Contacted</td>\n",
       "      <td>0</td>\n",
       "    </tr>\n",
       "    <tr>\n",
       "      <th>43192</th>\n",
       "      <td>entrepreneur</td>\n",
       "      <td>married</td>\n",
       "      <td>secondary</td>\n",
       "      <td>no</td>\n",
       "      <td>0.531537</td>\n",
       "      <td>no</td>\n",
       "      <td>no</td>\n",
       "      <td>cellular</td>\n",
       "      <td>0.143343</td>\n",
       "      <td>nov</td>\n",
       "      <td>0.397726</td>\n",
       "      <td>-0.247451</td>\n",
       "      <td>4.464947</td>\n",
       "      <td>35-44</td>\n",
       "      <td>144 to 282 days</td>\n",
       "      <td>0</td>\n",
       "    </tr>\n",
       "  </tbody>\n",
       "</table>\n",
       "<p>43193 rows × 16 columns</p>\n",
       "</div>"
      ],
      "text/plain": [
       "                job   marital  education default   balance housing loan  \\\n",
       "0        management   married   tertiary      no  0.259354     yes   no   \n",
       "1        technician    single  secondary      no -0.435568     yes   no   \n",
       "2      entrepreneur   married  secondary      no -0.444443     yes  yes   \n",
       "3        management   married   tertiary      no -0.369166     yes   no   \n",
       "4        management    single   tertiary      no -0.298161     yes  yes   \n",
       "...             ...       ...        ...     ...       ...     ...  ...   \n",
       "43188    technician   married   tertiary      no -0.173904      no   no   \n",
       "43189       retired  divorced    primary      no  0.123262      no   no   \n",
       "43190       retired   married  secondary      no  1.433555      no   no   \n",
       "43191   blue-collar   married  secondary      no -0.225513      no   no   \n",
       "43192  entrepreneur   married  secondary      no  0.531537      no   no   \n",
       "\n",
       "         contact       day month  duration  campaign  previous age_group  \\\n",
       "0       cellular -1.301418   may  0.010368 -0.573827 -0.250730     55-64   \n",
       "1       cellular -1.301418   may -0.415726 -0.573827 -0.250730     35-44   \n",
       "2       cellular -1.301418   may -0.706245 -0.573827 -0.250730     25-34   \n",
       "3       cellular -1.301418   may -0.462209 -0.573827 -0.250730     35-44   \n",
       "4       cellular -1.301418   may -0.160070 -0.573827 -0.250730     25-34   \n",
       "...          ...       ...   ...       ...       ...       ...       ...   \n",
       "43188   cellular  0.143343   nov  2.783852  0.078925 -0.250730     45-54   \n",
       "43189   cellular  0.143343   nov  0.765716 -0.247451 -0.250730       65+   \n",
       "43190   cellular  0.143343   nov  3.364890  0.731677  1.035364       65+   \n",
       "43191  telephone  0.143343   nov  0.967143  0.405301 -0.250730     55-64   \n",
       "43192   cellular  0.143343   nov  0.397726 -0.247451  4.464947     35-44   \n",
       "\n",
       "                    pdays_group  Deposit  \n",
       "0      Not Previously Contacted        0  \n",
       "1      Not Previously Contacted        0  \n",
       "2      Not Previously Contacted        0  \n",
       "3      Not Previously Contacted        0  \n",
       "4      Not Previously Contacted        0  \n",
       "...                         ...      ...  \n",
       "43188  Not Previously Contacted        1  \n",
       "43189  Not Previously Contacted        1  \n",
       "43190           144 to 282 days        1  \n",
       "43191  Not Previously Contacted        0  \n",
       "43192           144 to 282 days        0  \n",
       "\n",
       "[43193 rows x 16 columns]"
      ]
     },
     "execution_count": 6,
     "metadata": {},
     "output_type": "execute_result"
    }
   ],
   "source": [
    "df_std[['balance', 'day', 'duration', 'campaign','previous']] = scaler.transform(df_std[['balance', 'day', 'duration', 'campaign', 'previous']])\n",
    "\n",
    "df_std"
   ]
  },
  {
   "cell_type": "markdown",
   "metadata": {},
   "source": [
    "## Label Encoding"
   ]
  },
  {
   "cell_type": "code",
   "execution_count": 7,
   "metadata": {},
   "outputs": [],
   "source": [
    "df_encode = df_std.copy()"
   ]
  },
  {
   "cell_type": "code",
   "execution_count": 8,
   "metadata": {},
   "outputs": [],
   "source": [
    "# label encode\n",
    "\n",
    "labelencoder_X = LabelEncoder()"
   ]
  },
  {
   "cell_type": "code",
   "execution_count": 9,
   "metadata": {},
   "outputs": [],
   "source": [
    "df_encode['job']      = labelencoder_X.fit_transform(df_encode['job']) \n",
    "df_encode['marital']  = labelencoder_X.fit_transform(df_encode['marital']) \n",
    "df_encode['default']  = labelencoder_X.fit_transform(df_encode['default']) \n",
    "df_encode['housing']  = labelencoder_X.fit_transform(df_encode['housing']) \n",
    "df_encode['pdays_group']     = labelencoder_X.fit_transform(df_encode['pdays_group']) \n",
    "df_encode['loan']     = labelencoder_X.fit_transform(df_encode['loan']) \n",
    "df_encode['contact']  = labelencoder_X.fit_transform(df_encode['contact'])"
   ]
  },
  {
   "cell_type": "code",
   "execution_count": 10,
   "metadata": {},
   "outputs": [],
   "source": [
    "labelOE_ed = OrdinalEncoder(categories=[['primary','secondary','tertiary']])\n",
    "labelOE_mo = OrdinalEncoder(categories=[['jan','feb','mar', 'apr', 'may', 'jun', 'jul', 'aug', \\\n",
    "                                         'sep', 'oct', 'nov', 'dec']])\n",
    "labelOE_age = OrdinalEncoder(categories=[['17-24','25-34','35-44', '45-54', '55-64', '65+' ]])"
   ]
  },
  {
   "cell_type": "code",
   "execution_count": 11,
   "metadata": {},
   "outputs": [],
   "source": [
    "df_encode['education'] = labelOE_ed.fit_transform(df_encode[['education']])\n",
    "df_encode['month'] = labelOE_mo.fit_transform(df_encode[['month']])\n",
    "df_encode['age_group'] = labelOE_age.fit_transform(df_encode[['age_group']])"
   ]
  },
  {
   "cell_type": "code",
   "execution_count": 12,
   "metadata": {},
   "outputs": [
    {
     "data": {
      "text/html": [
       "<div>\n",
       "<style scoped>\n",
       "    .dataframe tbody tr th:only-of-type {\n",
       "        vertical-align: middle;\n",
       "    }\n",
       "\n",
       "    .dataframe tbody tr th {\n",
       "        vertical-align: top;\n",
       "    }\n",
       "\n",
       "    .dataframe thead th {\n",
       "        text-align: right;\n",
       "    }\n",
       "</style>\n",
       "<table border=\"1\" class=\"dataframe\">\n",
       "  <thead>\n",
       "    <tr style=\"text-align: right;\">\n",
       "      <th></th>\n",
       "      <th>job</th>\n",
       "      <th>marital</th>\n",
       "      <th>education</th>\n",
       "      <th>default</th>\n",
       "      <th>balance</th>\n",
       "      <th>housing</th>\n",
       "      <th>loan</th>\n",
       "      <th>contact</th>\n",
       "      <th>day</th>\n",
       "      <th>month</th>\n",
       "      <th>duration</th>\n",
       "      <th>campaign</th>\n",
       "      <th>previous</th>\n",
       "      <th>age_group</th>\n",
       "      <th>pdays_group</th>\n",
       "      <th>Deposit</th>\n",
       "    </tr>\n",
       "  </thead>\n",
       "  <tbody>\n",
       "    <tr>\n",
       "      <th>0</th>\n",
       "      <td>4</td>\n",
       "      <td>1</td>\n",
       "      <td>2.0</td>\n",
       "      <td>0</td>\n",
       "      <td>0.259354</td>\n",
       "      <td>1</td>\n",
       "      <td>0</td>\n",
       "      <td>0</td>\n",
       "      <td>-1.301418</td>\n",
       "      <td>4.0</td>\n",
       "      <td>0.010368</td>\n",
       "      <td>-0.573827</td>\n",
       "      <td>-0.250730</td>\n",
       "      <td>4.0</td>\n",
       "      <td>4</td>\n",
       "      <td>0</td>\n",
       "    </tr>\n",
       "    <tr>\n",
       "      <th>1</th>\n",
       "      <td>9</td>\n",
       "      <td>2</td>\n",
       "      <td>1.0</td>\n",
       "      <td>0</td>\n",
       "      <td>-0.435568</td>\n",
       "      <td>1</td>\n",
       "      <td>0</td>\n",
       "      <td>0</td>\n",
       "      <td>-1.301418</td>\n",
       "      <td>4.0</td>\n",
       "      <td>-0.415726</td>\n",
       "      <td>-0.573827</td>\n",
       "      <td>-0.250730</td>\n",
       "      <td>2.0</td>\n",
       "      <td>4</td>\n",
       "      <td>0</td>\n",
       "    </tr>\n",
       "    <tr>\n",
       "      <th>2</th>\n",
       "      <td>2</td>\n",
       "      <td>1</td>\n",
       "      <td>1.0</td>\n",
       "      <td>0</td>\n",
       "      <td>-0.444443</td>\n",
       "      <td>1</td>\n",
       "      <td>1</td>\n",
       "      <td>0</td>\n",
       "      <td>-1.301418</td>\n",
       "      <td>4.0</td>\n",
       "      <td>-0.706245</td>\n",
       "      <td>-0.573827</td>\n",
       "      <td>-0.250730</td>\n",
       "      <td>1.0</td>\n",
       "      <td>4</td>\n",
       "      <td>0</td>\n",
       "    </tr>\n",
       "    <tr>\n",
       "      <th>3</th>\n",
       "      <td>4</td>\n",
       "      <td>1</td>\n",
       "      <td>2.0</td>\n",
       "      <td>0</td>\n",
       "      <td>-0.369166</td>\n",
       "      <td>1</td>\n",
       "      <td>0</td>\n",
       "      <td>0</td>\n",
       "      <td>-1.301418</td>\n",
       "      <td>4.0</td>\n",
       "      <td>-0.462209</td>\n",
       "      <td>-0.573827</td>\n",
       "      <td>-0.250730</td>\n",
       "      <td>2.0</td>\n",
       "      <td>4</td>\n",
       "      <td>0</td>\n",
       "    </tr>\n",
       "    <tr>\n",
       "      <th>4</th>\n",
       "      <td>4</td>\n",
       "      <td>2</td>\n",
       "      <td>2.0</td>\n",
       "      <td>0</td>\n",
       "      <td>-0.298161</td>\n",
       "      <td>1</td>\n",
       "      <td>1</td>\n",
       "      <td>0</td>\n",
       "      <td>-1.301418</td>\n",
       "      <td>4.0</td>\n",
       "      <td>-0.160070</td>\n",
       "      <td>-0.573827</td>\n",
       "      <td>-0.250730</td>\n",
       "      <td>1.0</td>\n",
       "      <td>4</td>\n",
       "      <td>0</td>\n",
       "    </tr>\n",
       "    <tr>\n",
       "      <th>...</th>\n",
       "      <td>...</td>\n",
       "      <td>...</td>\n",
       "      <td>...</td>\n",
       "      <td>...</td>\n",
       "      <td>...</td>\n",
       "      <td>...</td>\n",
       "      <td>...</td>\n",
       "      <td>...</td>\n",
       "      <td>...</td>\n",
       "      <td>...</td>\n",
       "      <td>...</td>\n",
       "      <td>...</td>\n",
       "      <td>...</td>\n",
       "      <td>...</td>\n",
       "      <td>...</td>\n",
       "      <td>...</td>\n",
       "    </tr>\n",
       "    <tr>\n",
       "      <th>43188</th>\n",
       "      <td>9</td>\n",
       "      <td>1</td>\n",
       "      <td>2.0</td>\n",
       "      <td>0</td>\n",
       "      <td>-0.173904</td>\n",
       "      <td>0</td>\n",
       "      <td>0</td>\n",
       "      <td>0</td>\n",
       "      <td>0.143343</td>\n",
       "      <td>10.0</td>\n",
       "      <td>2.783852</td>\n",
       "      <td>0.078925</td>\n",
       "      <td>-0.250730</td>\n",
       "      <td>3.0</td>\n",
       "      <td>4</td>\n",
       "      <td>1</td>\n",
       "    </tr>\n",
       "    <tr>\n",
       "      <th>43189</th>\n",
       "      <td>5</td>\n",
       "      <td>0</td>\n",
       "      <td>0.0</td>\n",
       "      <td>0</td>\n",
       "      <td>0.123262</td>\n",
       "      <td>0</td>\n",
       "      <td>0</td>\n",
       "      <td>0</td>\n",
       "      <td>0.143343</td>\n",
       "      <td>10.0</td>\n",
       "      <td>0.765716</td>\n",
       "      <td>-0.247451</td>\n",
       "      <td>-0.250730</td>\n",
       "      <td>5.0</td>\n",
       "      <td>4</td>\n",
       "      <td>1</td>\n",
       "    </tr>\n",
       "    <tr>\n",
       "      <th>43190</th>\n",
       "      <td>5</td>\n",
       "      <td>1</td>\n",
       "      <td>1.0</td>\n",
       "      <td>0</td>\n",
       "      <td>1.433555</td>\n",
       "      <td>0</td>\n",
       "      <td>0</td>\n",
       "      <td>0</td>\n",
       "      <td>0.143343</td>\n",
       "      <td>10.0</td>\n",
       "      <td>3.364890</td>\n",
       "      <td>0.731677</td>\n",
       "      <td>1.035364</td>\n",
       "      <td>5.0</td>\n",
       "      <td>1</td>\n",
       "      <td>1</td>\n",
       "    </tr>\n",
       "    <tr>\n",
       "      <th>43191</th>\n",
       "      <td>1</td>\n",
       "      <td>1</td>\n",
       "      <td>1.0</td>\n",
       "      <td>0</td>\n",
       "      <td>-0.225513</td>\n",
       "      <td>0</td>\n",
       "      <td>0</td>\n",
       "      <td>1</td>\n",
       "      <td>0.143343</td>\n",
       "      <td>10.0</td>\n",
       "      <td>0.967143</td>\n",
       "      <td>0.405301</td>\n",
       "      <td>-0.250730</td>\n",
       "      <td>4.0</td>\n",
       "      <td>4</td>\n",
       "      <td>0</td>\n",
       "    </tr>\n",
       "    <tr>\n",
       "      <th>43192</th>\n",
       "      <td>2</td>\n",
       "      <td>1</td>\n",
       "      <td>1.0</td>\n",
       "      <td>0</td>\n",
       "      <td>0.531537</td>\n",
       "      <td>0</td>\n",
       "      <td>0</td>\n",
       "      <td>0</td>\n",
       "      <td>0.143343</td>\n",
       "      <td>10.0</td>\n",
       "      <td>0.397726</td>\n",
       "      <td>-0.247451</td>\n",
       "      <td>4.464947</td>\n",
       "      <td>2.0</td>\n",
       "      <td>1</td>\n",
       "      <td>0</td>\n",
       "    </tr>\n",
       "  </tbody>\n",
       "</table>\n",
       "<p>43193 rows × 16 columns</p>\n",
       "</div>"
      ],
      "text/plain": [
       "       job  marital  education  default   balance  housing  loan  contact  \\\n",
       "0        4        1        2.0        0  0.259354        1     0        0   \n",
       "1        9        2        1.0        0 -0.435568        1     0        0   \n",
       "2        2        1        1.0        0 -0.444443        1     1        0   \n",
       "3        4        1        2.0        0 -0.369166        1     0        0   \n",
       "4        4        2        2.0        0 -0.298161        1     1        0   \n",
       "...    ...      ...        ...      ...       ...      ...   ...      ...   \n",
       "43188    9        1        2.0        0 -0.173904        0     0        0   \n",
       "43189    5        0        0.0        0  0.123262        0     0        0   \n",
       "43190    5        1        1.0        0  1.433555        0     0        0   \n",
       "43191    1        1        1.0        0 -0.225513        0     0        1   \n",
       "43192    2        1        1.0        0  0.531537        0     0        0   \n",
       "\n",
       "            day  month  duration  campaign  previous  age_group  pdays_group  \\\n",
       "0     -1.301418    4.0  0.010368 -0.573827 -0.250730        4.0            4   \n",
       "1     -1.301418    4.0 -0.415726 -0.573827 -0.250730        2.0            4   \n",
       "2     -1.301418    4.0 -0.706245 -0.573827 -0.250730        1.0            4   \n",
       "3     -1.301418    4.0 -0.462209 -0.573827 -0.250730        2.0            4   \n",
       "4     -1.301418    4.0 -0.160070 -0.573827 -0.250730        1.0            4   \n",
       "...         ...    ...       ...       ...       ...        ...          ...   \n",
       "43188  0.143343   10.0  2.783852  0.078925 -0.250730        3.0            4   \n",
       "43189  0.143343   10.0  0.765716 -0.247451 -0.250730        5.0            4   \n",
       "43190  0.143343   10.0  3.364890  0.731677  1.035364        5.0            1   \n",
       "43191  0.143343   10.0  0.967143  0.405301 -0.250730        4.0            4   \n",
       "43192  0.143343   10.0  0.397726 -0.247451  4.464947        2.0            1   \n",
       "\n",
       "       Deposit  \n",
       "0            0  \n",
       "1            0  \n",
       "2            0  \n",
       "3            0  \n",
       "4            0  \n",
       "...        ...  \n",
       "43188        1  \n",
       "43189        1  \n",
       "43190        1  \n",
       "43191        0  \n",
       "43192        0  \n",
       "\n",
       "[43193 rows x 16 columns]"
      ]
     },
     "execution_count": 12,
     "metadata": {},
     "output_type": "execute_result"
    }
   ],
   "source": [
    "df_encode"
   ]
  },
  {
   "cell_type": "code",
   "execution_count": 13,
   "metadata": {},
   "outputs": [],
   "source": [
    "# Turn the ordinal encoded value into integer.\n",
    "\n",
    "df_encode['education'] = df_encode['education'].apply(lambda x : int(x))\n",
    "df_encode['month'] = df_encode['month'].apply(lambda x : int(x))\n",
    "df_encode['age_group'] = df_encode['age_group'].apply(lambda x : int(x))"
   ]
  },
  {
   "cell_type": "code",
   "execution_count": 14,
   "metadata": {},
   "outputs": [
    {
     "data": {
      "text/html": [
       "<div>\n",
       "<style scoped>\n",
       "    .dataframe tbody tr th:only-of-type {\n",
       "        vertical-align: middle;\n",
       "    }\n",
       "\n",
       "    .dataframe tbody tr th {\n",
       "        vertical-align: top;\n",
       "    }\n",
       "\n",
       "    .dataframe thead th {\n",
       "        text-align: right;\n",
       "    }\n",
       "</style>\n",
       "<table border=\"1\" class=\"dataframe\">\n",
       "  <thead>\n",
       "    <tr style=\"text-align: right;\">\n",
       "      <th></th>\n",
       "      <th>job</th>\n",
       "      <th>marital</th>\n",
       "      <th>education</th>\n",
       "      <th>default</th>\n",
       "      <th>balance</th>\n",
       "      <th>housing</th>\n",
       "      <th>loan</th>\n",
       "      <th>contact</th>\n",
       "      <th>day</th>\n",
       "      <th>month</th>\n",
       "      <th>duration</th>\n",
       "      <th>campaign</th>\n",
       "      <th>previous</th>\n",
       "      <th>age_group</th>\n",
       "      <th>pdays_group</th>\n",
       "      <th>Deposit</th>\n",
       "    </tr>\n",
       "  </thead>\n",
       "  <tbody>\n",
       "    <tr>\n",
       "      <th>0</th>\n",
       "      <td>4</td>\n",
       "      <td>1</td>\n",
       "      <td>2</td>\n",
       "      <td>0</td>\n",
       "      <td>0.259354</td>\n",
       "      <td>1</td>\n",
       "      <td>0</td>\n",
       "      <td>0</td>\n",
       "      <td>-1.301418</td>\n",
       "      <td>4</td>\n",
       "      <td>0.010368</td>\n",
       "      <td>-0.573827</td>\n",
       "      <td>-0.250730</td>\n",
       "      <td>4</td>\n",
       "      <td>4</td>\n",
       "      <td>0</td>\n",
       "    </tr>\n",
       "    <tr>\n",
       "      <th>1</th>\n",
       "      <td>9</td>\n",
       "      <td>2</td>\n",
       "      <td>1</td>\n",
       "      <td>0</td>\n",
       "      <td>-0.435568</td>\n",
       "      <td>1</td>\n",
       "      <td>0</td>\n",
       "      <td>0</td>\n",
       "      <td>-1.301418</td>\n",
       "      <td>4</td>\n",
       "      <td>-0.415726</td>\n",
       "      <td>-0.573827</td>\n",
       "      <td>-0.250730</td>\n",
       "      <td>2</td>\n",
       "      <td>4</td>\n",
       "      <td>0</td>\n",
       "    </tr>\n",
       "    <tr>\n",
       "      <th>2</th>\n",
       "      <td>2</td>\n",
       "      <td>1</td>\n",
       "      <td>1</td>\n",
       "      <td>0</td>\n",
       "      <td>-0.444443</td>\n",
       "      <td>1</td>\n",
       "      <td>1</td>\n",
       "      <td>0</td>\n",
       "      <td>-1.301418</td>\n",
       "      <td>4</td>\n",
       "      <td>-0.706245</td>\n",
       "      <td>-0.573827</td>\n",
       "      <td>-0.250730</td>\n",
       "      <td>1</td>\n",
       "      <td>4</td>\n",
       "      <td>0</td>\n",
       "    </tr>\n",
       "    <tr>\n",
       "      <th>3</th>\n",
       "      <td>4</td>\n",
       "      <td>1</td>\n",
       "      <td>2</td>\n",
       "      <td>0</td>\n",
       "      <td>-0.369166</td>\n",
       "      <td>1</td>\n",
       "      <td>0</td>\n",
       "      <td>0</td>\n",
       "      <td>-1.301418</td>\n",
       "      <td>4</td>\n",
       "      <td>-0.462209</td>\n",
       "      <td>-0.573827</td>\n",
       "      <td>-0.250730</td>\n",
       "      <td>2</td>\n",
       "      <td>4</td>\n",
       "      <td>0</td>\n",
       "    </tr>\n",
       "    <tr>\n",
       "      <th>4</th>\n",
       "      <td>4</td>\n",
       "      <td>2</td>\n",
       "      <td>2</td>\n",
       "      <td>0</td>\n",
       "      <td>-0.298161</td>\n",
       "      <td>1</td>\n",
       "      <td>1</td>\n",
       "      <td>0</td>\n",
       "      <td>-1.301418</td>\n",
       "      <td>4</td>\n",
       "      <td>-0.160070</td>\n",
       "      <td>-0.573827</td>\n",
       "      <td>-0.250730</td>\n",
       "      <td>1</td>\n",
       "      <td>4</td>\n",
       "      <td>0</td>\n",
       "    </tr>\n",
       "    <tr>\n",
       "      <th>...</th>\n",
       "      <td>...</td>\n",
       "      <td>...</td>\n",
       "      <td>...</td>\n",
       "      <td>...</td>\n",
       "      <td>...</td>\n",
       "      <td>...</td>\n",
       "      <td>...</td>\n",
       "      <td>...</td>\n",
       "      <td>...</td>\n",
       "      <td>...</td>\n",
       "      <td>...</td>\n",
       "      <td>...</td>\n",
       "      <td>...</td>\n",
       "      <td>...</td>\n",
       "      <td>...</td>\n",
       "      <td>...</td>\n",
       "    </tr>\n",
       "    <tr>\n",
       "      <th>43188</th>\n",
       "      <td>9</td>\n",
       "      <td>1</td>\n",
       "      <td>2</td>\n",
       "      <td>0</td>\n",
       "      <td>-0.173904</td>\n",
       "      <td>0</td>\n",
       "      <td>0</td>\n",
       "      <td>0</td>\n",
       "      <td>0.143343</td>\n",
       "      <td>10</td>\n",
       "      <td>2.783852</td>\n",
       "      <td>0.078925</td>\n",
       "      <td>-0.250730</td>\n",
       "      <td>3</td>\n",
       "      <td>4</td>\n",
       "      <td>1</td>\n",
       "    </tr>\n",
       "    <tr>\n",
       "      <th>43189</th>\n",
       "      <td>5</td>\n",
       "      <td>0</td>\n",
       "      <td>0</td>\n",
       "      <td>0</td>\n",
       "      <td>0.123262</td>\n",
       "      <td>0</td>\n",
       "      <td>0</td>\n",
       "      <td>0</td>\n",
       "      <td>0.143343</td>\n",
       "      <td>10</td>\n",
       "      <td>0.765716</td>\n",
       "      <td>-0.247451</td>\n",
       "      <td>-0.250730</td>\n",
       "      <td>5</td>\n",
       "      <td>4</td>\n",
       "      <td>1</td>\n",
       "    </tr>\n",
       "    <tr>\n",
       "      <th>43190</th>\n",
       "      <td>5</td>\n",
       "      <td>1</td>\n",
       "      <td>1</td>\n",
       "      <td>0</td>\n",
       "      <td>1.433555</td>\n",
       "      <td>0</td>\n",
       "      <td>0</td>\n",
       "      <td>0</td>\n",
       "      <td>0.143343</td>\n",
       "      <td>10</td>\n",
       "      <td>3.364890</td>\n",
       "      <td>0.731677</td>\n",
       "      <td>1.035364</td>\n",
       "      <td>5</td>\n",
       "      <td>1</td>\n",
       "      <td>1</td>\n",
       "    </tr>\n",
       "    <tr>\n",
       "      <th>43191</th>\n",
       "      <td>1</td>\n",
       "      <td>1</td>\n",
       "      <td>1</td>\n",
       "      <td>0</td>\n",
       "      <td>-0.225513</td>\n",
       "      <td>0</td>\n",
       "      <td>0</td>\n",
       "      <td>1</td>\n",
       "      <td>0.143343</td>\n",
       "      <td>10</td>\n",
       "      <td>0.967143</td>\n",
       "      <td>0.405301</td>\n",
       "      <td>-0.250730</td>\n",
       "      <td>4</td>\n",
       "      <td>4</td>\n",
       "      <td>0</td>\n",
       "    </tr>\n",
       "    <tr>\n",
       "      <th>43192</th>\n",
       "      <td>2</td>\n",
       "      <td>1</td>\n",
       "      <td>1</td>\n",
       "      <td>0</td>\n",
       "      <td>0.531537</td>\n",
       "      <td>0</td>\n",
       "      <td>0</td>\n",
       "      <td>0</td>\n",
       "      <td>0.143343</td>\n",
       "      <td>10</td>\n",
       "      <td>0.397726</td>\n",
       "      <td>-0.247451</td>\n",
       "      <td>4.464947</td>\n",
       "      <td>2</td>\n",
       "      <td>1</td>\n",
       "      <td>0</td>\n",
       "    </tr>\n",
       "  </tbody>\n",
       "</table>\n",
       "<p>43193 rows × 16 columns</p>\n",
       "</div>"
      ],
      "text/plain": [
       "       job  marital  education  default   balance  housing  loan  contact  \\\n",
       "0        4        1          2        0  0.259354        1     0        0   \n",
       "1        9        2          1        0 -0.435568        1     0        0   \n",
       "2        2        1          1        0 -0.444443        1     1        0   \n",
       "3        4        1          2        0 -0.369166        1     0        0   \n",
       "4        4        2          2        0 -0.298161        1     1        0   \n",
       "...    ...      ...        ...      ...       ...      ...   ...      ...   \n",
       "43188    9        1          2        0 -0.173904        0     0        0   \n",
       "43189    5        0          0        0  0.123262        0     0        0   \n",
       "43190    5        1          1        0  1.433555        0     0        0   \n",
       "43191    1        1          1        0 -0.225513        0     0        1   \n",
       "43192    2        1          1        0  0.531537        0     0        0   \n",
       "\n",
       "            day  month  duration  campaign  previous  age_group  pdays_group  \\\n",
       "0     -1.301418      4  0.010368 -0.573827 -0.250730          4            4   \n",
       "1     -1.301418      4 -0.415726 -0.573827 -0.250730          2            4   \n",
       "2     -1.301418      4 -0.706245 -0.573827 -0.250730          1            4   \n",
       "3     -1.301418      4 -0.462209 -0.573827 -0.250730          2            4   \n",
       "4     -1.301418      4 -0.160070 -0.573827 -0.250730          1            4   \n",
       "...         ...    ...       ...       ...       ...        ...          ...   \n",
       "43188  0.143343     10  2.783852  0.078925 -0.250730          3            4   \n",
       "43189  0.143343     10  0.765716 -0.247451 -0.250730          5            4   \n",
       "43190  0.143343     10  3.364890  0.731677  1.035364          5            1   \n",
       "43191  0.143343     10  0.967143  0.405301 -0.250730          4            4   \n",
       "43192  0.143343     10  0.397726 -0.247451  4.464947          2            1   \n",
       "\n",
       "       Deposit  \n",
       "0            0  \n",
       "1            0  \n",
       "2            0  \n",
       "3            0  \n",
       "4            0  \n",
       "...        ...  \n",
       "43188        1  \n",
       "43189        1  \n",
       "43190        1  \n",
       "43191        0  \n",
       "43192        0  \n",
       "\n",
       "[43193 rows x 16 columns]"
      ]
     },
     "execution_count": 14,
     "metadata": {},
     "output_type": "execute_result"
    }
   ],
   "source": [
    "df_encode"
   ]
  },
  {
   "cell_type": "markdown",
   "metadata": {},
   "source": [
    "## Machine Learning Modelling , Predicting for Deposit Features."
   ]
  },
  {
   "cell_type": "markdown",
   "metadata": {},
   "source": [
    "### Splitting Dataset"
   ]
  },
  {
   "cell_type": "code",
   "execution_count": 15,
   "metadata": {},
   "outputs": [],
   "source": [
    "data = df_encode.copy()"
   ]
  },
  {
   "cell_type": "code",
   "execution_count": 16,
   "metadata": {},
   "outputs": [],
   "source": [
    "x = data.drop(columns='Deposit')\n",
    "\n",
    "y = data['Deposit']"
   ]
  },
  {
   "cell_type": "code",
   "execution_count": 17,
   "metadata": {},
   "outputs": [],
   "source": [
    "xtrain,xtest,ytrain,ytest =  train_test_split(x, y, train_size=.8, random_state=2)"
   ]
  },
  {
   "cell_type": "code",
   "execution_count": 18,
   "metadata": {},
   "outputs": [
    {
     "data": {
      "text/plain": [
       "(34554, 8639, 34554, 8639)"
      ]
     },
     "execution_count": 18,
     "metadata": {},
     "output_type": "execute_result"
    }
   ],
   "source": [
    "len(xtrain), len(xtest), len(ytrain), len(ytest)"
   ]
  },
  {
   "cell_type": "code",
   "execution_count": 19,
   "metadata": {},
   "outputs": [
    {
     "data": {
      "text/plain": [
       "LogisticRegression(C=1.0, class_weight=None, dual=False, fit_intercept=True,\n",
       "                   intercept_scaling=1, l1_ratio=None, max_iter=100,\n",
       "                   multi_class='auto', n_jobs=None, penalty='l2',\n",
       "                   random_state=None, solver='liblinear', tol=0.0001, verbose=0,\n",
       "                   warm_start=False)"
      ]
     },
     "execution_count": 19,
     "metadata": {},
     "output_type": "execute_result"
    }
   ],
   "source": [
    "model_ori_logis = LogisticRegression(solver='liblinear')\n",
    "model_ori_logis.fit(xtrain, ytrain)"
   ]
  },
  {
   "cell_type": "code",
   "execution_count": 20,
   "metadata": {},
   "outputs": [
    {
     "data": {
      "text/plain": [
       "DecisionTreeClassifier(ccp_alpha=0.0, class_weight=None, criterion='gini',\n",
       "                       max_depth=3, max_features=None, max_leaf_nodes=None,\n",
       "                       min_impurity_decrease=0.0, min_impurity_split=None,\n",
       "                       min_samples_leaf=1, min_samples_split=2,\n",
       "                       min_weight_fraction_leaf=0.0, presort='deprecated',\n",
       "                       random_state=None, splitter='best')"
      ]
     },
     "execution_count": 20,
     "metadata": {},
     "output_type": "execute_result"
    }
   ],
   "source": [
    "model_ori_tree = tree.DecisionTreeClassifier(max_depth=3)\n",
    "model_ori_tree.fit(xtrain, ytrain)"
   ]
  },
  {
   "cell_type": "code",
   "execution_count": 21,
   "metadata": {},
   "outputs": [
    {
     "data": {
      "text/plain": [
       "RandomForestClassifier(bootstrap=True, ccp_alpha=0.0, class_weight=None,\n",
       "                       criterion='gini', max_depth=None, max_features='auto',\n",
       "                       max_leaf_nodes=None, max_samples=None,\n",
       "                       min_impurity_decrease=0.0, min_impurity_split=None,\n",
       "                       min_samples_leaf=1, min_samples_split=2,\n",
       "                       min_weight_fraction_leaf=0.0, n_estimators=100,\n",
       "                       n_jobs=None, oob_score=False, random_state=None,\n",
       "                       verbose=0, warm_start=False)"
      ]
     },
     "execution_count": 21,
     "metadata": {},
     "output_type": "execute_result"
    }
   ],
   "source": [
    "model_ori_rf = RandomForestClassifier()\n",
    "model_ori_rf.fit(xtrain, ytrain)"
   ]
  },
  {
   "cell_type": "code",
   "execution_count": 22,
   "metadata": {},
   "outputs": [
    {
     "name": "stdout",
     "output_type": "stream",
     "text": [
      "Logistic Regression score: 89.8715793819297%\n",
      "Decision Tree score: 89.48958132278196%\n",
      "RandomForestClassifier score: 89.99890089858242%\n"
     ]
    }
   ],
   "source": [
    "#### Model Comparison with Cross validation\n",
    "\n",
    "nilai_Logistik = np.mean(cross_val_score(model_ori_logis, xtest, ytest, cv=5, scoring='accuracy')) * 100 \n",
    "nilai_Tree = np.mean(cross_val_score(model_ori_tree, xtest, ytest, cv=5, scoring='accuracy')) * 100 \n",
    "nilai_RandFor = np.mean(cross_val_score(model_ori_rf, xtest, ytest, cv=5, scoring='accuracy')) * 100 \n",
    "print(\n",
    "    f'Logistic Regression score: {nilai_Logistik}%\\nDecision Tree score: {nilai_Tree}%\\nRandomForestClassifier score: {nilai_RandFor}%'\n",
    ")"
   ]
  },
  {
   "cell_type": "markdown",
   "metadata": {},
   "source": [
    "## Evaluation Metrics Before Tuning"
   ]
  },
  {
   "cell_type": "markdown",
   "metadata": {},
   "source": [
    "#### Logistic Regression"
   ]
  },
  {
   "cell_type": "code",
   "execution_count": 23,
   "metadata": {},
   "outputs": [],
   "source": [
    "y_pred_log_ori = model_ori_logis.predict(xtest)"
   ]
  },
  {
   "cell_type": "code",
   "execution_count": 24,
   "metadata": {},
   "outputs": [
    {
     "data": {
      "text/plain": [
       "array([[ 234,  746],\n",
       "       [ 128, 7531]])"
      ]
     },
     "execution_count": 24,
     "metadata": {},
     "output_type": "execute_result"
    }
   ],
   "source": [
    "confusion_matrix(ytest,y_pred_log_ori,labels=[1,0])"
   ]
  },
  {
   "cell_type": "code",
   "execution_count": 25,
   "metadata": {},
   "outputs": [
    {
     "data": {
      "text/plain": [
       "<sklearn.metrics._plot.confusion_matrix.ConfusionMatrixDisplay at 0x122c953a0>"
      ]
     },
     "execution_count": 25,
     "metadata": {},
     "output_type": "execute_result"
    },
    {
     "data": {
      "image/png": "[encoded data removed]",
      "text/plain": [
       "<Figure size 432x288 with 2 Axes>"
      ]
     },
     "metadata": {
      "needs_background": "light"
     },
     "output_type": "display_data"
    }
   ],
   "source": [
    "plot_confusion_matrix(\n",
    "    model_ori_logis,xtest, ytest,values_format = '0.0f',labels=[1,0]\n",
    ")"
   ]
  },
  {
   "cell_type": "code",
   "execution_count": 26,
   "metadata": {},
   "outputs": [
    {
     "name": "stdout",
     "output_type": "stream",
     "text": [
      "Logistic Regression Report: \n",
      "               precision    recall  f1-score   support\n",
      "\n",
      "           0       0.91      0.98      0.95      7659\n",
      "           1       0.65      0.24      0.35       980\n",
      "\n",
      "    accuracy                           0.90      8639\n",
      "   macro avg       0.78      0.61      0.65      8639\n",
      "weighted avg       0.88      0.90      0.88      8639\n",
      "\n"
     ]
    }
   ],
   "source": [
    "print('Logistic Regression Report: \\n',classification_report(ytest, y_pred_log_ori))"
   ]
  },
  {
   "cell_type": "code",
   "execution_count": 27,
   "metadata": {},
   "outputs": [
    {
     "name": "stdout",
     "output_type": "stream",
     "text": [
      "Balanced-Acc :  61.1 %\n",
      "Precision(+) :  64.64 %\n",
      "Precision(-) :  90.99 %\n",
      "Recall(+)    :  23.88 %\n",
      "Recall(-)    :  98.33 %\n",
      "F1 score(+)  :  34.87 %\n",
      "F1 score(-)  :  94.52 %\n",
      "Nilai ROC&AUC    :  61.1 %\n"
     ]
    }
   ],
   "source": [
    "print('Balanced-Acc : ', round(balanced_accuracy_score(ytest, y_pred_log_ori)*100,2), '%')\n",
    "print('Precision(+) : ', round(precision_score(ytest, y_pred_log_ori, pos_label=1)*100,2), '%')\n",
    "print('Precision(-) : ', round(precision_score(ytest, y_pred_log_ori, pos_label=0)*100,2), '%')\n",
    "print('Recall(+)    : ', round(recall_score(ytest, y_pred_log_ori, pos_label=1)*100,2), '%')\n",
    "print('Recall(-)    : ', round(recall_score(ytest, y_pred_log_ori, pos_label=0)*100,2), '%')\n",
    "print('F1 score(+)  : ', round(f1_score(ytest, y_pred_log_ori, pos_label=1)*100,2), '%')\n",
    "print('F1 score(-)  : ', round(f1_score(ytest, y_pred_log_ori, pos_label=0)*100,2), '%')\n",
    "print('Nilai ROC&AUC    : ', round(roc_auc_score(ytest, y_pred_log_ori)*100,2), '%')"
   ]
  },
  {
   "cell_type": "code",
   "execution_count": 28,
   "metadata": {},
   "outputs": [
    {
     "data": {
      "image/png": "[encoded data removed]",
      "text/plain": [
       "<Figure size 432x288 with 1 Axes>"
      ]
     },
     "metadata": {
      "needs_background": "light"
     },
     "output_type": "display_data"
    }
   ],
   "source": [
    "fpr_log, tpr_log, thres_log = roc_curve(ytest, model_ori_logis.predict_proba(xtest)[:,1])\n",
    "\n",
    "plt.plot(fpr_log, tpr_log)\n",
    "plt.plot([0,1], [0,1], 'r:')\n",
    "plt.xlabel('False Positive rate')\n",
    "plt.ylabel('True Positive rate')\n",
    "plt.show()"
   ]
  },
  {
   "cell_type": "markdown",
   "metadata": {},
   "source": [
    "#### Decision Tree Classifier"
   ]
  },
  {
   "cell_type": "code",
   "execution_count": 29,
   "metadata": {},
   "outputs": [],
   "source": [
    "y_pred_tree_ori = model_ori_tree.predict(xtest)"
   ]
  },
  {
   "cell_type": "code",
   "execution_count": 30,
   "metadata": {},
   "outputs": [
    {
     "data": {
      "text/plain": [
       "array([[ 272,  708],\n",
       "       [ 200, 7459]])"
      ]
     },
     "execution_count": 30,
     "metadata": {},
     "output_type": "execute_result"
    }
   ],
   "source": [
    "confusion_matrix(ytest,y_pred_tree_ori,labels=[1,0])"
   ]
  },
  {
   "cell_type": "code",
   "execution_count": 31,
   "metadata": {},
   "outputs": [
    {
     "data": {
      "text/plain": [
       "<sklearn.metrics._plot.confusion_matrix.ConfusionMatrixDisplay at 0x122c002b0>"
      ]
     },
     "execution_count": 31,
     "metadata": {},
     "output_type": "execute_result"
    },
    {
     "data": {
      "image/png": "[encoded data removed]",
      "text/plain": [
       "<Figure size 432x288 with 2 Axes>"
      ]
     },
     "metadata": {
      "needs_background": "light"
     },
     "output_type": "display_data"
    }
   ],
   "source": [
    "plot_confusion_matrix(\n",
    "    model_ori_tree,xtest, ytest,values_format = '0.0f',labels=[1,0]\n",
    ")"
   ]
  },
  {
   "cell_type": "code",
   "execution_count": 32,
   "metadata": {},
   "outputs": [
    {
     "name": "stdout",
     "output_type": "stream",
     "text": [
      "Decision Tree Report: \n",
      "               precision    recall  f1-score   support\n",
      "\n",
      "           0       0.91      0.97      0.94      7659\n",
      "           1       0.58      0.28      0.37       980\n",
      "\n",
      "    accuracy                           0.89      8639\n",
      "   macro avg       0.74      0.63      0.66      8639\n",
      "weighted avg       0.88      0.89      0.88      8639\n",
      "\n"
     ]
    }
   ],
   "source": [
    "print('Decision Tree Report: \\n',classification_report(ytest, y_pred_tree_ori))"
   ]
  },
  {
   "cell_type": "code",
   "execution_count": 33,
   "metadata": {},
   "outputs": [
    {
     "name": "stdout",
     "output_type": "stream",
     "text": [
      "Balanced-Acc :  62.57 %\n",
      "Precision(+) :  57.63 %\n",
      "Precision(-) :  91.33 %\n",
      "Recall(+)    :  27.76 %\n",
      "Recall(-)    :  97.39 %\n",
      "F1 score(+)  :  37.47 %\n",
      "F1 score(-)  :  94.26 %\n",
      "Nilai ROC&AUC    :  62.57 %\n"
     ]
    }
   ],
   "source": [
    "print('Balanced-Acc : ', round(balanced_accuracy_score(ytest, y_pred_tree_ori)*100,2), '%')\n",
    "print('Precision(+) : ', round(precision_score(ytest, y_pred_tree_ori, pos_label=1)*100,2), '%')\n",
    "print('Precision(-) : ', round(precision_score(ytest, y_pred_tree_ori, pos_label=0)*100,2), '%')\n",
    "print('Recall(+)    : ', round(recall_score(ytest, y_pred_tree_ori, pos_label=1)*100,2), '%')\n",
    "print('Recall(-)    : ', round(recall_score(ytest, y_pred_tree_ori, pos_label=0)*100,2), '%')\n",
    "print('F1 score(+)  : ', round(f1_score(ytest, y_pred_tree_ori, pos_label=1)*100,2), '%')\n",
    "print('F1 score(-)  : ', round(f1_score(ytest, y_pred_tree_ori, pos_label=0)*100,2), '%')\n",
    "print('Nilai ROC&AUC    : ', round(roc_auc_score(ytest, y_pred_tree_ori)*100,2), '%')"
   ]
  },
  {
   "cell_type": "code",
   "execution_count": 34,
   "metadata": {},
   "outputs": [
    {
     "data": {
      "image/png": "[encoded data removed]",
      "text/plain": [
       "<Figure size 432x288 with 1 Axes>"
      ]
     },
     "metadata": {
      "needs_background": "light"
     },
     "output_type": "display_data"
    }
   ],
   "source": [
    "fpr_tree, tpr_tree, thres_tree = roc_curve(ytest, model_ori_tree.predict_proba(xtest)[:,1])\n",
    "\n",
    "plt.plot(fpr_tree, tpr_tree)\n",
    "plt.plot([0,1], [0,1], 'r:')\n",
    "plt.xlabel('False Positive rate')\n",
    "plt.ylabel('True Positive rate')\n",
    "plt.show()"
   ]
  },
  {
   "cell_type": "markdown",
   "metadata": {},
   "source": [
    "#### Random Forest Classifier"
   ]
  },
  {
   "cell_type": "code",
   "execution_count": 35,
   "metadata": {},
   "outputs": [],
   "source": [
    "y_pred_rf_ori = model_ori_rf.predict(xtest)"
   ]
  },
  {
   "cell_type": "code",
   "execution_count": 36,
   "metadata": {},
   "outputs": [
    {
     "data": {
      "text/plain": [
       "array([[ 362,  618],\n",
       "       [ 205, 7454]])"
      ]
     },
     "execution_count": 36,
     "metadata": {},
     "output_type": "execute_result"
    }
   ],
   "source": [
    "confusion_matrix(ytest,y_pred_rf_ori,labels=[1,0])"
   ]
  },
  {
   "cell_type": "code",
   "execution_count": 37,
   "metadata": {},
   "outputs": [
    {
     "data": {
      "text/plain": [
       "<sklearn.metrics._plot.confusion_matrix.ConfusionMatrixDisplay at 0x122cb0ca0>"
      ]
     },
     "execution_count": 37,
     "metadata": {},
     "output_type": "execute_result"
    },
    {
     "data": {
      "image/png": "[encoded data removed]",
      "text/plain": [
       "<Figure size 432x288 with 2 Axes>"
      ]
     },
     "metadata": {
      "needs_background": "light"
     },
     "output_type": "display_data"
    }
   ],
   "source": [
    "plot_confusion_matrix(\n",
    "    model_ori_rf,xtest, ytest,values_format = '0.0f',labels=[1,0]\n",
    ")"
   ]
  },
  {
   "cell_type": "code",
   "execution_count": 38,
   "metadata": {},
   "outputs": [
    {
     "name": "stdout",
     "output_type": "stream",
     "text": [
      "Random Forest Report: \n",
      "               precision    recall  f1-score   support\n",
      "\n",
      "           0       0.92      0.97      0.95      7659\n",
      "           1       0.64      0.37      0.47       980\n",
      "\n",
      "    accuracy                           0.90      8639\n",
      "   macro avg       0.78      0.67      0.71      8639\n",
      "weighted avg       0.89      0.90      0.89      8639\n",
      "\n"
     ]
    }
   ],
   "source": [
    "print('Random Forest Report: \\n',classification_report(ytest, y_pred_rf_ori))"
   ]
  },
  {
   "cell_type": "code",
   "execution_count": 39,
   "metadata": {},
   "outputs": [
    {
     "name": "stdout",
     "output_type": "stream",
     "text": [
      "Balanced-Acc :  67.13 %\n",
      "Precision(+) :  63.84 %\n",
      "Precision(-) :  92.34 %\n",
      "Recall(+)    :  36.94 %\n",
      "Recall(-)    :  97.32 %\n",
      "F1 score(+)  :  46.8 %\n",
      "F1 score(-)  :  94.77 %\n",
      "Nilai ROC&AUC    :  67.13 %\n"
     ]
    }
   ],
   "source": [
    "print('Balanced-Acc : ', round(balanced_accuracy_score(ytest, y_pred_rf_ori)*100,2), '%')\n",
    "print('Precision(+) : ', round(precision_score(ytest, y_pred_rf_ori, pos_label=1)*100,2), '%')\n",
    "print('Precision(-) : ', round(precision_score(ytest, y_pred_rf_ori, pos_label=0)*100,2), '%')\n",
    "print('Recall(+)    : ', round(recall_score(ytest, y_pred_rf_ori, pos_label=1)*100,2), '%')\n",
    "print('Recall(-)    : ', round(recall_score(ytest, y_pred_rf_ori, pos_label=0)*100,2), '%')\n",
    "print('F1 score(+)  : ', round(f1_score(ytest, y_pred_rf_ori, pos_label=1)*100,2), '%')\n",
    "print('F1 score(-)  : ', round(f1_score(ytest, y_pred_rf_ori, pos_label=0)*100,2), '%')\n",
    "print('Nilai ROC&AUC    : ', round(roc_auc_score(ytest, y_pred_rf_ori)*100,2), '%')"
   ]
  },
  {
   "cell_type": "code",
   "execution_count": 40,
   "metadata": {},
   "outputs": [
    {
     "data": {
      "image/png": "[encoded data removed]",
      "text/plain": [
       "<Figure size 432x288 with 1 Axes>"
      ]
     },
     "metadata": {
      "needs_background": "light"
     },
     "output_type": "display_data"
    }
   ],
   "source": [
    "fpr_rf, tpr_rf, thres_rf = roc_curve(ytest, model_ori_rf.predict_proba(xtest)[:,1])\n",
    "\n",
    "plt.plot(fpr_rf, tpr_rf)\n",
    "plt.plot([0,1], [0,1], 'r:')\n",
    "plt.xlabel('False Positive rate')\n",
    "plt.ylabel('True Positive rate')\n",
    "plt.show()"
   ]
  },
  {
   "cell_type": "markdown",
   "metadata": {},
   "source": [
    "### Logistic Regression Hyper Parameter Tuning"
   ]
  },
  {
   "cell_type": "code",
   "execution_count": 41,
   "metadata": {},
   "outputs": [],
   "source": [
    "param_log = {'solver': ['newton-cg', 'lbfgs', 'liblinear', 'sag', 'saga'],\n",
    " 'penalty': ['none', 'l1', 'l2', 'elasticnet'],\n",
    " 'C': [100, 10, 1.0, 0.1, 0.01]}"
   ]
  },
  {
   "cell_type": "code",
   "execution_count": 42,
   "metadata": {},
   "outputs": [
    {
     "name": "stderr",
     "output_type": "stream",
     "text": [
      "/Library/Frameworks/Python.framework/Versions/3.8/lib/python3.8/site-packages/sklearn/model_selection/_validation.py:532: FitFailedWarning: Estimator fit failed. The score on this train-test partition for these parameters will be set to nan. Details: \n",
      "ValueError: Only 'saga' solver supports elasticnet penalty, got solver=liblinear.\n",
      "\n",
      "  warnings.warn(\"Estimator fit failed. The score on this train-test\"\n",
      "/Library/Frameworks/Python.framework/Versions/3.8/lib/python3.8/site-packages/sklearn/linear_model/_logistic.py:938: ConvergenceWarning: lbfgs failed to converge (status=1):\n",
      "STOP: TOTAL NO. of ITERATIONS REACHED LIMIT.\n",
      "\n",
      "Increase the number of iterations (max_iter) or scale the data as shown in:\n",
      "    https://scikit-learn.org/stable/modules/preprocessing.html\n",
      "Please also refer to the documentation for alternative solver options:\n",
      "    https://scikit-learn.org/stable/modules/linear_model.html#logistic-regression\n",
      "  n_iter_i = _check_optimize_result(\n",
      "/Library/Frameworks/Python.framework/Versions/3.8/lib/python3.8/site-packages/sklearn/linear_model/_logistic.py:938: ConvergenceWarning: lbfgs failed to converge (status=1):\n",
      "STOP: TOTAL NO. of ITERATIONS REACHED LIMIT.\n",
      "\n",
      "Increase the number of iterations (max_iter) or scale the data as shown in:\n",
      "    https://scikit-learn.org/stable/modules/preprocessing.html\n",
      "Please also refer to the documentation for alternative solver options:\n",
      "    https://scikit-learn.org/stable/modules/linear_model.html#logistic-regression\n",
      "  n_iter_i = _check_optimize_result(\n",
      "/Library/Frameworks/Python.framework/Versions/3.8/lib/python3.8/site-packages/sklearn/linear_model/_sag.py:329: ConvergenceWarning: The max_iter was reached which means the coef_ did not converge\n",
      "  warnings.warn(\"The max_iter was reached which means \"\n",
      "/Library/Frameworks/Python.framework/Versions/3.8/lib/python3.8/site-packages/sklearn/linear_model/_sag.py:329: ConvergenceWarning: The max_iter was reached which means the coef_ did not converge\n",
      "  warnings.warn(\"The max_iter was reached which means \"\n",
      "/Library/Frameworks/Python.framework/Versions/3.8/lib/python3.8/site-packages/sklearn/model_selection/_validation.py:532: FitFailedWarning: Estimator fit failed. The score on this train-test partition for these parameters will be set to nan. Details: \n",
      "ValueError: Solver sag supports only 'l2' or 'none' penalties, got l1 penalty.\n",
      "\n",
      "  warnings.warn(\"Estimator fit failed. The score on this train-test\"\n",
      "/Library/Frameworks/Python.framework/Versions/3.8/lib/python3.8/site-packages/sklearn/linear_model/_logistic.py:938: ConvergenceWarning: lbfgs failed to converge (status=1):\n",
      "STOP: TOTAL NO. of ITERATIONS REACHED LIMIT.\n",
      "\n",
      "Increase the number of iterations (max_iter) or scale the data as shown in:\n",
      "    https://scikit-learn.org/stable/modules/preprocessing.html\n",
      "Please also refer to the documentation for alternative solver options:\n",
      "    https://scikit-learn.org/stable/modules/linear_model.html#logistic-regression\n",
      "  n_iter_i = _check_optimize_result(\n",
      "/Library/Frameworks/Python.framework/Versions/3.8/lib/python3.8/site-packages/sklearn/linear_model/_logistic.py:938: ConvergenceWarning: lbfgs failed to converge (status=1):\n",
      "STOP: TOTAL NO. of ITERATIONS REACHED LIMIT.\n",
      "\n",
      "Increase the number of iterations (max_iter) or scale the data as shown in:\n",
      "    https://scikit-learn.org/stable/modules/preprocessing.html\n",
      "Please also refer to the documentation for alternative solver options:\n",
      "    https://scikit-learn.org/stable/modules/linear_model.html#logistic-regression\n",
      "  n_iter_i = _check_optimize_result(\n",
      "/Library/Frameworks/Python.framework/Versions/3.8/lib/python3.8/site-packages/sklearn/model_selection/_validation.py:532: FitFailedWarning: Estimator fit failed. The score on this train-test partition for these parameters will be set to nan. Details: \n",
      "ValueError: Solver newton-cg supports only 'l2' or 'none' penalties, got elasticnet penalty.\n",
      "\n",
      "  warnings.warn(\"Estimator fit failed. The score on this train-test\"\n",
      "/Library/Frameworks/Python.framework/Versions/3.8/lib/python3.8/site-packages/sklearn/linear_model/_logistic.py:1504: UserWarning: Setting penalty='none' will ignore the C and l1_ratio parameters\n",
      "  warnings.warn(\n",
      "/Library/Frameworks/Python.framework/Versions/3.8/lib/python3.8/site-packages/sklearn/linear_model/_logistic.py:1504: UserWarning: Setting penalty='none' will ignore the C and l1_ratio parameters\n",
      "  warnings.warn(\n",
      "/Library/Frameworks/Python.framework/Versions/3.8/lib/python3.8/site-packages/sklearn/linear_model/_logistic.py:1504: UserWarning: Setting penalty='none' will ignore the C and l1_ratio parameters\n",
      "  warnings.warn(\n",
      "/Library/Frameworks/Python.framework/Versions/3.8/lib/python3.8/site-packages/sklearn/linear_model/_logistic.py:1504: UserWarning: Setting penalty='none' will ignore the C and l1_ratio parameters\n",
      "  warnings.warn(\n",
      "/Library/Frameworks/Python.framework/Versions/3.8/lib/python3.8/site-packages/sklearn/linear_model/_logistic.py:938: ConvergenceWarning: lbfgs failed to converge (status=1):\n",
      "STOP: TOTAL NO. of ITERATIONS REACHED LIMIT.\n",
      "\n",
      "Increase the number of iterations (max_iter) or scale the data as shown in:\n",
      "    https://scikit-learn.org/stable/modules/preprocessing.html\n",
      "Please also refer to the documentation for alternative solver options:\n",
      "    https://scikit-learn.org/stable/modules/linear_model.html#logistic-regression\n",
      "  n_iter_i = _check_optimize_result(\n",
      "/Library/Frameworks/Python.framework/Versions/3.8/lib/python3.8/site-packages/sklearn/linear_model/_logistic.py:1504: UserWarning: Setting penalty='none' will ignore the C and l1_ratio parameters\n",
      "  warnings.warn(\n",
      "/Library/Frameworks/Python.framework/Versions/3.8/lib/python3.8/site-packages/sklearn/linear_model/_logistic.py:938: ConvergenceWarning: lbfgs failed to converge (status=1):\n",
      "STOP: TOTAL NO. of ITERATIONS REACHED LIMIT.\n",
      "\n",
      "Increase the number of iterations (max_iter) or scale the data as shown in:\n",
      "    https://scikit-learn.org/stable/modules/preprocessing.html\n",
      "Please also refer to the documentation for alternative solver options:\n",
      "    https://scikit-learn.org/stable/modules/linear_model.html#logistic-regression\n",
      "  n_iter_i = _check_optimize_result(\n",
      "/Library/Frameworks/Python.framework/Versions/3.8/lib/python3.8/site-packages/sklearn/linear_model/_logistic.py:1504: UserWarning: Setting penalty='none' will ignore the C and l1_ratio parameters\n",
      "  warnings.warn(\n",
      "/Library/Frameworks/Python.framework/Versions/3.8/lib/python3.8/site-packages/sklearn/linear_model/_logistic.py:1504: UserWarning: Setting penalty='none' will ignore the C and l1_ratio parameters\n",
      "  warnings.warn(\n",
      "/Library/Frameworks/Python.framework/Versions/3.8/lib/python3.8/site-packages/sklearn/linear_model/_logistic.py:1504: UserWarning: Setting penalty='none' will ignore the C and l1_ratio parameters\n",
      "  warnings.warn(\n",
      "/Library/Frameworks/Python.framework/Versions/3.8/lib/python3.8/site-packages/sklearn/linear_model/_logistic.py:1504: UserWarning: Setting penalty='none' will ignore the C and l1_ratio parameters\n",
      "  warnings.warn(\n",
      "/Library/Frameworks/Python.framework/Versions/3.8/lib/python3.8/site-packages/sklearn/linear_model/_logistic.py:1504: UserWarning: Setting penalty='none' will ignore the C and l1_ratio parameters\n",
      "  warnings.warn(\n"
     ]
    },
    {
     "data": {
      "text/plain": [
       "{'solver': 'liblinear', 'penalty': 'l2', 'C': 0.01}"
      ]
     },
     "execution_count": 42,
     "metadata": {},
     "output_type": "execute_result"
    }
   ],
   "source": [
    "modelrs_log= RandomizedSearchCV(\n",
    "    estimator = LogisticRegression(), param_distributions = param_log, random_state=12\n",
    ")\n",
    "\n",
    "modelrs_log.fit(xtrain, ytrain)\n",
    "modelrs_log.best_params_"
   ]
  },
  {
   "cell_type": "code",
   "execution_count": 43,
   "metadata": {},
   "outputs": [
    {
     "name": "stdout",
     "output_type": "stream",
     "text": [
      "Logistic Regression tuning: 0.8969788169927075\n"
     ]
    }
   ],
   "source": [
    "model_baru_log = LogisticRegression(solver= 'liblinear', penalty= 'l2', C= 0.01)\n",
    "model_baru_log.fit(xtrain, ytrain)\n",
    "\n",
    "print(f'Logistic Regression tuning: {model_baru_log.score(xtest, ytest)}')"
   ]
  },
  {
   "cell_type": "markdown",
   "metadata": {},
   "source": [
    "### Decision Tree Hyper Parameter Tuning"
   ]
  },
  {
   "cell_type": "code",
   "execution_count": 44,
   "metadata": {},
   "outputs": [],
   "source": [
    "param_tree = {\"max_depth\": [3, None], \n",
    "              \"max_features\": [random.randint(1, 9)], \n",
    "              \"min_samples_leaf\": [random.randint(1, 9)], \n",
    "              \"criterion\": [\"gini\", \"entropy\"]} "
   ]
  },
  {
   "cell_type": "code",
   "execution_count": 45,
   "metadata": {},
   "outputs": [
    {
     "name": "stderr",
     "output_type": "stream",
     "text": [
      "/Library/Frameworks/Python.framework/Versions/3.8/lib/python3.8/site-packages/sklearn/model_selection/_search.py:277: UserWarning: The total space of parameters 4 is smaller than n_iter=10. Running 4 iterations. For exhaustive searches, use GridSearchCV.\n",
      "  warnings.warn(\n"
     ]
    },
    {
     "data": {
      "text/plain": [
       "{'min_samples_leaf': 3, 'max_features': 9, 'max_depth': 3, 'criterion': 'gini'}"
      ]
     },
     "execution_count": 45,
     "metadata": {},
     "output_type": "execute_result"
    }
   ],
   "source": [
    "modelrs_tree= RandomizedSearchCV(\n",
    "    estimator = tree.DecisionTreeClassifier(), param_distributions = param_tree, random_state=40\n",
    ")\n",
    "\n",
    "modelrs_tree.fit(xtrain, ytrain)\n",
    "modelrs_tree.best_params_"
   ]
  },
  {
   "cell_type": "code",
   "execution_count": 47,
   "metadata": {},
   "outputs": [
    {
     "name": "stdout",
     "output_type": "stream",
     "text": [
      "Decision Tree tuning: 0.8943164718138673\n"
     ]
    }
   ],
   "source": [
    "model_baru_tree = tree.DecisionTreeClassifier(min_samples_leaf= 3,\n",
    " max_features= 9,\n",
    " max_depth= 3,\n",
    " criterion= 'gini')\n",
    "model_baru_tree.fit(xtrain, ytrain)\n",
    "\n",
    "print(f'Decision Tree tuning: {model_baru_tree.score(xtest, ytest)}')"
   ]
  },
  {
   "cell_type": "markdown",
   "metadata": {},
   "source": [
    "### Random Forest Hyper Parameter Tuning"
   ]
  },
  {
   "cell_type": "code",
   "execution_count": 48,
   "metadata": {},
   "outputs": [],
   "source": [
    "param_rf = {'bootstrap': [True, False],\n",
    " 'max_depth': [10, 20, 30, 40, 50, None],\n",
    " 'max_features': ['auto', 'sqrt'],\n",
    " 'min_samples_leaf': [1, 2, 4],\n",
    " 'min_samples_split': [2, 5, 10],\n",
    " 'n_estimators': [100,200]}"
   ]
  },
  {
   "cell_type": "code",
   "execution_count": 49,
   "metadata": {},
   "outputs": [
    {
     "data": {
      "text/plain": [
       "{'n_estimators': 100,\n",
       " 'min_samples_split': 10,\n",
       " 'min_samples_leaf': 2,\n",
       " 'max_features': 'sqrt',\n",
       " 'max_depth': 40,\n",
       " 'bootstrap': False}"
      ]
     },
     "execution_count": 49,
     "metadata": {},
     "output_type": "execute_result"
    }
   ],
   "source": [
    "modelrs_rf= RandomizedSearchCV(\n",
    "    estimator = RandomForestClassifier(), param_distributions = param_rf, random_state=101\n",
    ")\n",
    "\n",
    "modelrs_rf.fit(xtrain, ytrain)\n",
    "modelrs_rf.best_params_"
   ]
  },
  {
   "cell_type": "code",
   "execution_count": 50,
   "metadata": {},
   "outputs": [
    {
     "name": "stdout",
     "output_type": "stream",
     "text": [
      "RandomForest tuning: 0.9061233939113323\n"
     ]
    }
   ],
   "source": [
    "model_baru_rf = RandomForestClassifier(n_estimators= 100,min_samples_split= 10,min_samples_leaf= 2,\\\n",
    "                                       max_features= 'sqrt',max_depth= 40,bootstrap= False)\n",
    "model_baru_rf.fit(xtrain, ytrain)\n",
    "\n",
    "# print(f'RandomForest asli  : {model_ori_rf.score(xtest, ytest)}')\n",
    "print(f'RandomForest tuning: {model_baru_rf.score(xtest, ytest)}')"
   ]
  },
  {
   "cell_type": "code",
   "execution_count": 51,
   "metadata": {},
   "outputs": [
    {
     "name": "stdout",
     "output_type": "stream",
     "text": [
      "Logistic Regression score: 89.61692294494841%\n",
      "Decision Tree score: 88.99172188981106%\n",
      "RandomForestClassifier score: 90.1494308799245%\n"
     ]
    }
   ],
   "source": [
    "#### Model Comparison with Cross validation\n",
    "\n",
    "nilai_Logistik_Tuned = np.mean(cross_val_score(model_baru_log, xtest, ytest, cv=5, scoring='accuracy')) * 100 \n",
    "nilai_Tree_Tuned = np.mean(cross_val_score(model_baru_tree, xtest, ytest, cv=5, scoring='accuracy')) * 100 \n",
    "nilai_RandFor_Tuned = np.mean(cross_val_score(model_baru_rf, xtest, ytest, cv=5, scoring='accuracy')) * 100 \n",
    "print(\n",
    "    f'Logistic Regression score: {nilai_Logistik_Tuned}%\\nDecision Tree score: {nilai_Tree_Tuned}%\\nRandomForestClassifier score: {nilai_RandFor_Tuned}%'\n",
    ")"
   ]
  },
  {
   "cell_type": "markdown",
   "metadata": {},
   "source": [
    "## Evaluation Metrics"
   ]
  },
  {
   "cell_type": "markdown",
   "metadata": {},
   "source": [
    "#### Logistic Regression"
   ]
  },
  {
   "cell_type": "code",
   "execution_count": 52,
   "metadata": {},
   "outputs": [],
   "source": [
    "y_pred_log = model_baru_log.predict(xtest)"
   ]
  },
  {
   "cell_type": "code",
   "execution_count": 53,
   "metadata": {},
   "outputs": [
    {
     "data": {
      "text/plain": [
       "array([[ 217,  763],\n",
       "       [ 127, 7532]])"
      ]
     },
     "execution_count": 53,
     "metadata": {},
     "output_type": "execute_result"
    }
   ],
   "source": [
    "confusion_matrix(ytest,y_pred_log,labels=[1,0])"
   ]
  },
  {
   "cell_type": "code",
   "execution_count": 54,
   "metadata": {},
   "outputs": [
    {
     "data": {
      "text/plain": [
       "<sklearn.metrics._plot.confusion_matrix.ConfusionMatrixDisplay at 0x121a52eb0>"
      ]
     },
     "execution_count": 54,
     "metadata": {},
     "output_type": "execute_result"
    },
    {
     "data": {
      "image/png": "[encoded data removed]",
      "text/plain": [
       "<Figure size 432x288 with 2 Axes>"
      ]
     },
     "metadata": {
      "needs_background": "light"
     },
     "output_type": "display_data"
    }
   ],
   "source": [
    "plot_confusion_matrix(\n",
    "    model_baru_log,xtest, ytest,values_format = '0.0f',labels=[1,0]\n",
    ")"
   ]
  },
  {
   "cell_type": "code",
   "execution_count": 55,
   "metadata": {},
   "outputs": [
    {
     "name": "stdout",
     "output_type": "stream",
     "text": [
      "Logistic Regression Report: \n",
      "               precision    recall  f1-score   support\n",
      "\n",
      "           0       0.91      0.98      0.94      7659\n",
      "           1       0.63      0.22      0.33       980\n",
      "\n",
      "    accuracy                           0.90      8639\n",
      "   macro avg       0.77      0.60      0.64      8639\n",
      "weighted avg       0.88      0.90      0.87      8639\n",
      "\n"
     ]
    }
   ],
   "source": [
    "print('Logistic Regression Report: \\n',classification_report(ytest, y_pred_log))"
   ]
  },
  {
   "cell_type": "code",
   "execution_count": 56,
   "metadata": {},
   "outputs": [
    {
     "name": "stdout",
     "output_type": "stream",
     "text": [
      "Balanced-Acc :  60.24 %\n",
      "Precision(+) :  63.08 %\n",
      "Precision(-) :  90.8 %\n",
      "Recall(+)    :  22.14 %\n",
      "Recall(-)    :  98.34 %\n",
      "F1 score(+)  :  32.78 %\n",
      "F1 score(-)  :  94.42 %\n",
      "Nilai ROC&AUC    :  60.24 %\n"
     ]
    }
   ],
   "source": [
    "print('Balanced-Acc : ', round(balanced_accuracy_score(ytest, y_pred_log)*100,2), '%')\n",
    "print('Precision(+) : ', round(precision_score(ytest, y_pred_log, pos_label=1)*100,2), '%')\n",
    "print('Precision(-) : ', round(precision_score(ytest, y_pred_log, pos_label=0)*100,2), '%')\n",
    "print('Recall(+)    : ', round(recall_score(ytest, y_pred_log, pos_label=1)*100,2), '%')\n",
    "print('Recall(-)    : ', round(recall_score(ytest, y_pred_log, pos_label=0)*100,2), '%')\n",
    "print('F1 score(+)  : ', round(f1_score(ytest, y_pred_log, pos_label=1)*100,2), '%')\n",
    "print('F1 score(-)  : ', round(f1_score(ytest, y_pred_log, pos_label=0)*100,2), '%')\n",
    "print('Nilai ROC&AUC    : ', round(roc_auc_score(ytest, y_pred_log)*100,2), '%')"
   ]
  },
  {
   "cell_type": "code",
   "execution_count": 57,
   "metadata": {},
   "outputs": [
    {
     "data": {
      "image/png": "[encoded data removed]",
      "text/plain": [
       "<Figure size 432x288 with 1 Axes>"
      ]
     },
     "metadata": {
      "needs_background": "light"
     },
     "output_type": "display_data"
    }
   ],
   "source": [
    "fpr_log, tpr_log, thres_log = roc_curve(ytest, model_baru_log.predict_proba(xtest)[:,1])\n",
    "\n",
    "plt.plot(fpr_log, tpr_log)\n",
    "plt.plot([0,1], [0,1], 'r:')\n",
    "plt.xlabel('False Positive rate')\n",
    "plt.ylabel('True Positive rate')\n",
    "plt.show()"
   ]
  },
  {
   "cell_type": "markdown",
   "metadata": {},
   "source": [
    "#### Decision Tree Classifier"
   ]
  },
  {
   "cell_type": "code",
   "execution_count": 58,
   "metadata": {},
   "outputs": [],
   "source": [
    "y_pred_tree = model_baru_tree.predict(xtest)"
   ]
  },
  {
   "cell_type": "code",
   "execution_count": 59,
   "metadata": {},
   "outputs": [
    {
     "data": {
      "text/plain": [
       "array([[ 216,  764],\n",
       "       [ 149, 7510]])"
      ]
     },
     "execution_count": 59,
     "metadata": {},
     "output_type": "execute_result"
    }
   ],
   "source": [
    "confusion_matrix(ytest,y_pred_tree,labels=[1,0])"
   ]
  },
  {
   "cell_type": "code",
   "execution_count": 60,
   "metadata": {},
   "outputs": [
    {
     "data": {
      "text/plain": [
       "<sklearn.metrics._plot.confusion_matrix.ConfusionMatrixDisplay at 0x124cfe580>"
      ]
     },
     "execution_count": 60,
     "metadata": {},
     "output_type": "execute_result"
    },
    {
     "data": {
      "image/png": "[encoded data removed]",
      "text/plain": [
       "<Figure size 432x288 with 2 Axes>"
      ]
     },
     "metadata": {
      "needs_background": "light"
     },
     "output_type": "display_data"
    }
   ],
   "source": [
    "plot_confusion_matrix(\n",
    "    model_baru_tree,xtest, ytest,values_format = '0.0f',labels=[1,0]\n",
    ")"
   ]
  },
  {
   "cell_type": "code",
   "execution_count": 61,
   "metadata": {},
   "outputs": [
    {
     "name": "stdout",
     "output_type": "stream",
     "text": [
      "Decision Tree Report: \n",
      "               precision    recall  f1-score   support\n",
      "\n",
      "           0       0.91      0.98      0.94      7659\n",
      "           1       0.59      0.22      0.32       980\n",
      "\n",
      "    accuracy                           0.89      8639\n",
      "   macro avg       0.75      0.60      0.63      8639\n",
      "weighted avg       0.87      0.89      0.87      8639\n",
      "\n"
     ]
    }
   ],
   "source": [
    "print('Decision Tree Report: \\n',classification_report(ytest, y_pred_tree))"
   ]
  },
  {
   "cell_type": "code",
   "execution_count": 62,
   "metadata": {},
   "outputs": [
    {
     "name": "stdout",
     "output_type": "stream",
     "text": [
      "Balanced-Acc :  60.05 %\n",
      "Precision(+) :  59.18 %\n",
      "Precision(-) :  90.77 %\n",
      "Recall(+)    :  22.04 %\n",
      "Recall(-)    :  98.05 %\n",
      "F1 score(+)  :  32.12 %\n",
      "F1 score(-)  :  94.27 %\n",
      "Nilai ROC&AUC    :  60.05 %\n"
     ]
    }
   ],
   "source": [
    "print('Balanced-Acc : ', round(balanced_accuracy_score(ytest, y_pred_tree)*100,2), '%')\n",
    "print('Precision(+) : ', round(precision_score(ytest, y_pred_tree, pos_label=1)*100,2), '%')\n",
    "print('Precision(-) : ', round(precision_score(ytest, y_pred_tree, pos_label=0)*100,2), '%')\n",
    "print('Recall(+)    : ', round(recall_score(ytest, y_pred_tree, pos_label=1)*100,2), '%')\n",
    "print('Recall(-)    : ', round(recall_score(ytest, y_pred_tree, pos_label=0)*100,2), '%')\n",
    "print('F1 score(+)  : ', round(f1_score(ytest, y_pred_tree, pos_label=1)*100,2), '%')\n",
    "print('F1 score(-)  : ', round(f1_score(ytest, y_pred_tree, pos_label=0)*100,2), '%')\n",
    "print('Nilai ROC&AUC    : ', round(roc_auc_score(ytest, y_pred_tree)*100,2), '%')"
   ]
  },
  {
   "cell_type": "code",
   "execution_count": 63,
   "metadata": {},
   "outputs": [
    {
     "data": {
      "image/png": "[encoded data removed]",
      "text/plain": [
       "<Figure size 432x288 with 1 Axes>"
      ]
     },
     "metadata": {
      "needs_background": "light"
     },
     "output_type": "display_data"
    }
   ],
   "source": [
    "fpr_tree, tpr_tree, thres_tree = roc_curve(ytest, model_baru_tree.predict_proba(xtest)[:,1])\n",
    "\n",
    "plt.plot(fpr_tree, tpr_tree)\n",
    "plt.plot([0,1], [0,1], 'r:')\n",
    "plt.xlabel('False Positive rate')\n",
    "plt.ylabel('True Positive rate')\n",
    "plt.show()"
   ]
  },
  {
   "cell_type": "markdown",
   "metadata": {},
   "source": [
    "#### Random Forest Classifier"
   ]
  },
  {
   "cell_type": "code",
   "execution_count": 64,
   "metadata": {},
   "outputs": [],
   "source": [
    "y_pred_rf = model_baru_rf.predict(xtest)"
   ]
  },
  {
   "cell_type": "code",
   "execution_count": 65,
   "metadata": {},
   "outputs": [
    {
     "data": {
      "text/plain": [
       "array([[ 381,  599],\n",
       "       [ 212, 7447]])"
      ]
     },
     "execution_count": 65,
     "metadata": {},
     "output_type": "execute_result"
    }
   ],
   "source": [
    "confusion_matrix(ytest,y_pred_rf,labels=[1,0])"
   ]
  },
  {
   "cell_type": "code",
   "execution_count": 66,
   "metadata": {},
   "outputs": [
    {
     "data": {
      "text/plain": [
       "<sklearn.metrics._plot.confusion_matrix.ConfusionMatrixDisplay at 0x122cc3a00>"
      ]
     },
     "execution_count": 66,
     "metadata": {},
     "output_type": "execute_result"
    },
    {
     "data": {
      "image/png": "[encoded data removed]",
      "text/plain": [
       "<Figure size 432x288 with 2 Axes>"
      ]
     },
     "metadata": {
      "needs_background": "light"
     },
     "output_type": "display_data"
    }
   ],
   "source": [
    "plot_confusion_matrix(\n",
    "    model_baru_rf,xtest, ytest,values_format = '0.0f',labels=[1,0]\n",
    ")"
   ]
  },
  {
   "cell_type": "code",
   "execution_count": 67,
   "metadata": {},
   "outputs": [
    {
     "name": "stdout",
     "output_type": "stream",
     "text": [
      "Random Forest Report: \n",
      "               precision    recall  f1-score   support\n",
      "\n",
      "           0       0.93      0.97      0.95      7659\n",
      "           1       0.64      0.39      0.48       980\n",
      "\n",
      "    accuracy                           0.91      8639\n",
      "   macro avg       0.78      0.68      0.72      8639\n",
      "weighted avg       0.89      0.91      0.90      8639\n",
      "\n"
     ]
    }
   ],
   "source": [
    "print('Random Forest Report: \\n',classification_report(ytest, y_pred_rf))"
   ]
  },
  {
   "cell_type": "code",
   "execution_count": 68,
   "metadata": {},
   "outputs": [
    {
     "name": "stdout",
     "output_type": "stream",
     "text": [
      "Balanced-Acc :  68.05 %\n",
      "Precision(+) :  64.25 %\n",
      "Precision(-) :  92.56 %\n",
      "Recall(+)    :  38.88 %\n",
      "Recall(-)    :  97.23 %\n",
      "F1 score(+)  :  48.44 %\n",
      "F1 score(-)  :  94.84 %\n",
      "Nilai ROC&AUC    :  68.05 %\n"
     ]
    }
   ],
   "source": [
    "print('Balanced-Acc : ', round(balanced_accuracy_score(ytest, y_pred_rf)*100,2), '%')\n",
    "print('Precision(+) : ', round(precision_score(ytest, y_pred_rf, pos_label=1)*100,2), '%')\n",
    "print('Precision(-) : ', round(precision_score(ytest, y_pred_rf, pos_label=0)*100,2), '%')\n",
    "print('Recall(+)    : ', round(recall_score(ytest, y_pred_rf, pos_label=1)*100,2), '%')\n",
    "print('Recall(-)    : ', round(recall_score(ytest, y_pred_rf, pos_label=0)*100,2), '%')\n",
    "print('F1 score(+)  : ', round(f1_score(ytest, y_pred_rf, pos_label=1)*100,2), '%')\n",
    "print('F1 score(-)  : ', round(f1_score(ytest, y_pred_rf, pos_label=0)*100,2), '%')\n",
    "print('Nilai ROC&AUC    : ', round(roc_auc_score(ytest, y_pred_rf)*100,2), '%')"
   ]
  },
  {
   "cell_type": "code",
   "execution_count": 69,
   "metadata": {},
   "outputs": [
    {
     "data": {
      "image/png": "[encoded data removed]",
      "text/plain": [
       "<Figure size 432x288 with 1 Axes>"
      ]
     },
     "metadata": {
      "needs_background": "light"
     },
     "output_type": "display_data"
    }
   ],
   "source": [
    "fpr_rf, tpr_rf, thres_rf = roc_curve(ytest, model_baru_rf.predict_proba(xtest)[:,1])\n",
    "\n",
    "plt.plot(fpr_rf, tpr_rf)\n",
    "plt.plot([0,1], [0,1], 'r:')\n",
    "plt.xlabel('False Positive rate')\n",
    "plt.ylabel('True Positive rate')\n",
    "plt.show()"
   ]
  },
  {
   "cell_type": "code",
   "execution_count": 70,
   "metadata": {},
   "outputs": [
    {
     "data": {
      "text/html": [
       "<div>\n",
       "<style scoped>\n",
       "    .dataframe tbody tr th:only-of-type {\n",
       "        vertical-align: middle;\n",
       "    }\n",
       "\n",
       "    .dataframe tbody tr th {\n",
       "        vertical-align: top;\n",
       "    }\n",
       "\n",
       "    .dataframe thead th {\n",
       "        text-align: right;\n",
       "    }\n",
       "</style>\n",
       "<table border=\"1\" class=\"dataframe\">\n",
       "  <thead>\n",
       "    <tr style=\"text-align: right;\">\n",
       "      <th></th>\n",
       "      <th>Model</th>\n",
       "      <th>Log_Def</th>\n",
       "      <th>Log_Tuned</th>\n",
       "      <th>Tree_Def</th>\n",
       "      <th>Tree_Tuned</th>\n",
       "      <th>RandFor_Def</th>\n",
       "      <th>RandFor_Tuned</th>\n",
       "    </tr>\n",
       "  </thead>\n",
       "  <tbody>\n",
       "    <tr>\n",
       "      <th>0</th>\n",
       "      <td>Balanced_Accuracy</td>\n",
       "      <td>0.611032</td>\n",
       "      <td>0.602423</td>\n",
       "      <td>0.625719</td>\n",
       "      <td>0.600477</td>\n",
       "      <td>0.671311</td>\n",
       "      <td>0.680548</td>\n",
       "    </tr>\n",
       "    <tr>\n",
       "      <th>1</th>\n",
       "      <td>Precision (+)</td>\n",
       "      <td>0.646409</td>\n",
       "      <td>0.630814</td>\n",
       "      <td>0.576271</td>\n",
       "      <td>0.591781</td>\n",
       "      <td>0.638448</td>\n",
       "      <td>0.642496</td>\n",
       "    </tr>\n",
       "    <tr>\n",
       "      <th>2</th>\n",
       "      <td>Precision (-)</td>\n",
       "      <td>0.909871</td>\n",
       "      <td>0.908017</td>\n",
       "      <td>0.913310</td>\n",
       "      <td>0.907663</td>\n",
       "      <td>0.923439</td>\n",
       "      <td>0.925553</td>\n",
       "    </tr>\n",
       "    <tr>\n",
       "      <th>3</th>\n",
       "      <td>Recall (+)</td>\n",
       "      <td>0.238776</td>\n",
       "      <td>0.221429</td>\n",
       "      <td>0.277551</td>\n",
       "      <td>0.220408</td>\n",
       "      <td>0.369388</td>\n",
       "      <td>0.388776</td>\n",
       "    </tr>\n",
       "    <tr>\n",
       "      <th>4</th>\n",
       "      <td>Recall (-)</td>\n",
       "      <td>0.983288</td>\n",
       "      <td>0.983418</td>\n",
       "      <td>0.973887</td>\n",
       "      <td>0.980546</td>\n",
       "      <td>0.973234</td>\n",
       "      <td>0.972320</td>\n",
       "    </tr>\n",
       "    <tr>\n",
       "      <th>5</th>\n",
       "      <td>f1 Score(+)</td>\n",
       "      <td>0.348733</td>\n",
       "      <td>0.327795</td>\n",
       "      <td>0.374656</td>\n",
       "      <td>0.321190</td>\n",
       "      <td>0.468003</td>\n",
       "      <td>0.484425</td>\n",
       "    </tr>\n",
       "    <tr>\n",
       "      <th>6</th>\n",
       "      <td>f1 Score(-)</td>\n",
       "      <td>0.945156</td>\n",
       "      <td>0.944215</td>\n",
       "      <td>0.942626</td>\n",
       "      <td>0.942698</td>\n",
       "      <td>0.947683</td>\n",
       "      <td>0.948360</td>\n",
       "    </tr>\n",
       "    <tr>\n",
       "      <th>7</th>\n",
       "      <td>f0.5 Score(+)</td>\n",
       "      <td>0.481878</td>\n",
       "      <td>0.460526</td>\n",
       "      <td>0.474198</td>\n",
       "      <td>0.442623</td>\n",
       "      <td>0.557266</td>\n",
       "      <td>0.568317</td>\n",
       "    </tr>\n",
       "    <tr>\n",
       "      <th>8</th>\n",
       "      <td>f0.5 SCore(-)</td>\n",
       "      <td>0.923664</td>\n",
       "      <td>0.922158</td>\n",
       "      <td>0.924815</td>\n",
       "      <td>0.921359</td>\n",
       "      <td>0.932986</td>\n",
       "      <td>0.934543</td>\n",
       "    </tr>\n",
       "    <tr>\n",
       "      <th>9</th>\n",
       "      <td>Auc Score</td>\n",
       "      <td>0.611032</td>\n",
       "      <td>0.602423</td>\n",
       "      <td>0.625719</td>\n",
       "      <td>0.600477</td>\n",
       "      <td>0.671311</td>\n",
       "      <td>0.680548</td>\n",
       "    </tr>\n",
       "  </tbody>\n",
       "</table>\n",
       "</div>"
      ],
      "text/plain": [
       "               Model   Log_Def  Log_Tuned  Tree_Def  Tree_Tuned  RandFor_Def  \\\n",
       "0  Balanced_Accuracy  0.611032   0.602423  0.625719    0.600477     0.671311   \n",
       "1      Precision (+)  0.646409   0.630814  0.576271    0.591781     0.638448   \n",
       "2      Precision (-)  0.909871   0.908017  0.913310    0.907663     0.923439   \n",
       "3         Recall (+)  0.238776   0.221429  0.277551    0.220408     0.369388   \n",
       "4         Recall (-)  0.983288   0.983418  0.973887    0.980546     0.973234   \n",
       "5        f1 Score(+)  0.348733   0.327795  0.374656    0.321190     0.468003   \n",
       "6        f1 Score(-)  0.945156   0.944215  0.942626    0.942698     0.947683   \n",
       "7      f0.5 Score(+)  0.481878   0.460526  0.474198    0.442623     0.557266   \n",
       "8      f0.5 SCore(-)  0.923664   0.922158  0.924815    0.921359     0.932986   \n",
       "9          Auc Score  0.611032   0.602423  0.625719    0.600477     0.671311   \n",
       "\n",
       "   RandFor_Tuned  \n",
       "0       0.680548  \n",
       "1       0.642496  \n",
       "2       0.925553  \n",
       "3       0.388776  \n",
       "4       0.972320  \n",
       "5       0.484425  \n",
       "6       0.948360  \n",
       "7       0.568317  \n",
       "8       0.934543  \n",
       "9       0.680548  "
      ]
     },
     "execution_count": 70,
     "metadata": {},
     "output_type": "execute_result"
    }
   ],
   "source": [
    "df_compare = pd.DataFrame({\n",
    "    'Model': ['Balanced_Accuracy','Precision (+)','Precision (-)','Recall (+)','Recall (-)', 'f1 Score(+)','f1 Score(-)',\\\n",
    "              'f0.5 Score(+)','f0.5 SCore(-)','Auc Score'],\n",
    "    \n",
    "    'Log_Def': [balanced_accuracy_score(ytest, y_pred_log_ori),\n",
    "precision_score(ytest, y_pred_log_ori, pos_label=1),\n",
    "precision_score(ytest, y_pred_log_ori, pos_label=0),\n",
    "recall_score(ytest, y_pred_log_ori, pos_label=1),\n",
    "recall_score(ytest, y_pred_log_ori, pos_label=0),\n",
    "f1_score(ytest, y_pred_log_ori, pos_label=1),\n",
    "f1_score(ytest, y_pred_log_ori, pos_label=0),\n",
    "fbeta_score(ytest, y_pred_log_ori, beta=0.5, pos_label=1),\n",
    "fbeta_score(ytest, y_pred_log_ori, beta=0.5, pos_label=0), \n",
    "roc_auc_score(ytest, y_pred_log_ori)],\n",
    "    \n",
    "    'Log_Tuned': [balanced_accuracy_score(ytest, y_pred_log),\n",
    "precision_score(ytest, y_pred_log, pos_label=1),\n",
    "precision_score(ytest, y_pred_log, pos_label=0),\n",
    "recall_score(ytest, y_pred_log, pos_label=1),\n",
    "recall_score(ytest, y_pred_log, pos_label=0),\n",
    "f1_score(ytest, y_pred_log, pos_label=1),\n",
    "f1_score(ytest, y_pred_log, pos_label=0),\n",
    "fbeta_score(ytest, y_pred_log, beta=0.5, pos_label=1),\n",
    "fbeta_score(ytest, y_pred_log, beta=0.5, pos_label=0),                  \n",
    "roc_auc_score(ytest, y_pred_log)],\n",
    "    \n",
    "    'Tree_Def': [balanced_accuracy_score(ytest, y_pred_tree_ori),\n",
    "precision_score(ytest, y_pred_tree_ori, pos_label=1),\n",
    "precision_score(ytest, y_pred_tree_ori, pos_label=0),\n",
    "recall_score(ytest, y_pred_tree_ori, pos_label=1),\n",
    "recall_score(ytest, y_pred_tree_ori, pos_label=0),\n",
    "f1_score(ytest, y_pred_tree_ori, pos_label=1),\n",
    "f1_score(ytest, y_pred_tree_ori, pos_label=0),\n",
    "fbeta_score(ytest, y_pred_tree_ori, beta=0.5, pos_label=1),\n",
    "fbeta_score(ytest, y_pred_tree_ori, beta=0.5, pos_label=0), \n",
    "roc_auc_score(ytest, y_pred_tree_ori)],\n",
    "    \n",
    "    'Tree_Tuned': [balanced_accuracy_score(ytest, y_pred_tree),\n",
    "precision_score(ytest, y_pred_tree, pos_label=1),\n",
    "precision_score(ytest, y_pred_tree, pos_label=0),\n",
    "recall_score(ytest, y_pred_tree, pos_label=1),\n",
    "recall_score(ytest, y_pred_tree, pos_label=0),\n",
    "f1_score(ytest, y_pred_tree, pos_label=1),\n",
    "f1_score(ytest, y_pred_tree, pos_label=0),\n",
    "fbeta_score(ytest, y_pred_tree, beta=0.5, pos_label=1),\n",
    "fbeta_score(ytest, y_pred_tree, beta=0.5, pos_label=0), \n",
    "roc_auc_score(ytest, y_pred_tree)],\n",
    "    \n",
    "    'RandFor_Def': [balanced_accuracy_score(ytest, y_pred_rf_ori),\n",
    "precision_score(ytest, y_pred_rf_ori, pos_label=1),\n",
    "precision_score(ytest, y_pred_rf_ori, pos_label=0),\n",
    "recall_score(ytest, y_pred_rf_ori, pos_label=1),\n",
    "recall_score(ytest, y_pred_rf_ori, pos_label=0),\n",
    "f1_score(ytest, y_pred_rf_ori, pos_label=1),\n",
    "f1_score(ytest, y_pred_rf_ori, pos_label=0),\n",
    "fbeta_score(ytest, y_pred_rf_ori, beta=0.5, pos_label=1),\n",
    "fbeta_score(ytest, y_pred_rf_ori, beta=0.5, pos_label=0), \n",
    "roc_auc_score(ytest, y_pred_rf_ori)],\n",
    "    \n",
    "    'RandFor_Tuned': [balanced_accuracy_score(ytest, y_pred_rf),\n",
    "precision_score(ytest, y_pred_rf, pos_label=1),\n",
    "precision_score(ytest, y_pred_rf, pos_label=0),\n",
    "recall_score(ytest, y_pred_rf, pos_label=1),\n",
    "recall_score(ytest, y_pred_rf, pos_label=0),\n",
    "f1_score(ytest, y_pred_rf, pos_label=1),\n",
    "f1_score(ytest, y_pred_rf, pos_label=0),\n",
    "fbeta_score(ytest, y_pred_rf, beta=0.5, pos_label=1),\n",
    "fbeta_score(ytest, y_pred_rf, beta=0.5, pos_label=0), \n",
    "roc_auc_score(ytest, y_pred_rf)]\n",
    "    \n",
    "})\n",
    "\n",
    "df_compare"
   ]
  },
  {
   "cell_type": "markdown",
   "metadata": {},
   "source": [
    "- Random Forest Model Tuned, secara keseluruhan memiliki performa yang tertinggi ketimbang model lainnya, oleh karena itu saya memilih model ini."
   ]
  },
  {
   "cell_type": "markdown",
   "metadata": {},
   "source": [
    "### Comparation Predicted and Actual Data on Dataset"
   ]
  },
  {
   "cell_type": "code",
   "execution_count": 71,
   "metadata": {},
   "outputs": [
    {
     "data": {
      "text/html": [
       "<div>\n",
       "<style scoped>\n",
       "    .dataframe tbody tr th:only-of-type {\n",
       "        vertical-align: middle;\n",
       "    }\n",
       "\n",
       "    .dataframe tbody tr th {\n",
       "        vertical-align: top;\n",
       "    }\n",
       "\n",
       "    .dataframe thead th {\n",
       "        text-align: right;\n",
       "    }\n",
       "</style>\n",
       "<table border=\"1\" class=\"dataframe\">\n",
       "  <thead>\n",
       "    <tr style=\"text-align: right;\">\n",
       "      <th></th>\n",
       "      <th>ytest</th>\n",
       "      <th>Prediksi RF Tuned</th>\n",
       "    </tr>\n",
       "  </thead>\n",
       "  <tbody>\n",
       "    <tr>\n",
       "      <th>4371</th>\n",
       "      <td>0</td>\n",
       "      <td>0</td>\n",
       "    </tr>\n",
       "    <tr>\n",
       "      <th>17977</th>\n",
       "      <td>0</td>\n",
       "      <td>0</td>\n",
       "    </tr>\n",
       "    <tr>\n",
       "      <th>12443</th>\n",
       "      <td>1</td>\n",
       "      <td>0</td>\n",
       "    </tr>\n",
       "    <tr>\n",
       "      <th>42110</th>\n",
       "      <td>1</td>\n",
       "      <td>1</td>\n",
       "    </tr>\n",
       "    <tr>\n",
       "      <th>8246</th>\n",
       "      <td>0</td>\n",
       "      <td>0</td>\n",
       "    </tr>\n",
       "    <tr>\n",
       "      <th>...</th>\n",
       "      <td>...</td>\n",
       "      <td>...</td>\n",
       "    </tr>\n",
       "    <tr>\n",
       "      <th>28043</th>\n",
       "      <td>0</td>\n",
       "      <td>0</td>\n",
       "    </tr>\n",
       "    <tr>\n",
       "      <th>18673</th>\n",
       "      <td>1</td>\n",
       "      <td>0</td>\n",
       "    </tr>\n",
       "    <tr>\n",
       "      <th>5840</th>\n",
       "      <td>0</td>\n",
       "      <td>0</td>\n",
       "    </tr>\n",
       "    <tr>\n",
       "      <th>36019</th>\n",
       "      <td>0</td>\n",
       "      <td>1</td>\n",
       "    </tr>\n",
       "    <tr>\n",
       "      <th>36940</th>\n",
       "      <td>1</td>\n",
       "      <td>1</td>\n",
       "    </tr>\n",
       "  </tbody>\n",
       "</table>\n",
       "<p>8639 rows × 2 columns</p>\n",
       "</div>"
      ],
      "text/plain": [
       "       ytest  Prediksi RF Tuned\n",
       "4371       0                  0\n",
       "17977      0                  0\n",
       "12443      1                  0\n",
       "42110      1                  1\n",
       "8246       0                  0\n",
       "...      ...                ...\n",
       "28043      0                  0\n",
       "18673      1                  0\n",
       "5840       0                  0\n",
       "36019      0                  1\n",
       "36940      1                  1\n",
       "\n",
       "[8639 rows x 2 columns]"
      ]
     },
     "execution_count": 71,
     "metadata": {},
     "output_type": "execute_result"
    }
   ],
   "source": [
    "# Cek Presentase dari keseluruhan dataset.\n",
    "\n",
    "dfBanding = pd.DataFrame({\n",
    "    'ytest': ytest,\n",
    "    'Prediksi RF Tuned':y_pred_rf})\n",
    "\n",
    "dfBanding"
   ]
  },
  {
   "cell_type": "code",
   "execution_count": 72,
   "metadata": {},
   "outputs": [
    {
     "data": {
      "text/plain": [
       "7828"
      ]
     },
     "execution_count": 72,
     "metadata": {},
     "output_type": "execute_result"
    }
   ],
   "source": [
    "TruePred = len(dfBanding[dfBanding['ytest']==dfBanding['Prediksi RF Tuned']])\n",
    "\n",
    "TruePred"
   ]
  },
  {
   "cell_type": "code",
   "execution_count": 73,
   "metadata": {},
   "outputs": [
    {
     "name": "stdout",
     "output_type": "stream",
     "text": [
      "Presentase Prediksi Benar : 90.61 %\n"
     ]
    }
   ],
   "source": [
    "print(f'Presentase Prediksi Benar : {round((TruePred/len(dfBanding)*100),2)} %')"
   ]
  },
  {
   "cell_type": "markdown",
   "metadata": {},
   "source": [
    "- Dari model yang dipilih, model dapat memprediksikan dengan benar dari data set yang ada sebesar 90.61% dan prediksi yang miss sebesar 9.39%."
   ]
  },
  {
   "cell_type": "markdown",
   "metadata": {},
   "source": [
    "## Feature Importance"
   ]
  },
  {
   "cell_type": "code",
   "execution_count": 74,
   "metadata": {},
   "outputs": [],
   "source": [
    "# Feature Importance.\n",
    "\n",
    "importances = model_baru_rf.feature_importances_\n",
    "\n",
    "col_importances = list(zip(x.columns,importances))"
   ]
  },
  {
   "cell_type": "code",
   "execution_count": 75,
   "metadata": {},
   "outputs": [],
   "source": [
    "col_importances = sorted(col_importances, key = lambda i: i[1], reverse=True)"
   ]
  },
  {
   "cell_type": "code",
   "execution_count": 76,
   "metadata": {},
   "outputs": [
    {
     "data": {
      "text/plain": [
       "[('duration', 0.3884277533565052),\n",
       " ('month', 0.10726782666645217),\n",
       " ('day', 0.09884104690220205),\n",
       " ('balance', 0.09493324670612208),\n",
       " ('pdays_group', 0.048117854153312364),\n",
       " ('age_group', 0.047531955903254174),\n",
       " ('previous', 0.044250711328372355),\n",
       " ('job', 0.040811817626411055),\n",
       " ('housing', 0.04056088575245795),\n",
       " ('campaign', 0.033649019304559276),\n",
       " ('marital', 0.018928759735750977),\n",
       " ('education', 0.018058539375091203),\n",
       " ('loan', 0.0103495960011153),\n",
       " ('contact', 0.006904932117202091),\n",
       " ('default', 0.001366055071191812)]"
      ]
     },
     "execution_count": 76,
     "metadata": {},
     "output_type": "execute_result"
    }
   ],
   "source": [
    "col_importances"
   ]
  },
  {
   "cell_type": "markdown",
   "metadata": {},
   "source": [
    "## Joblib"
   ]
  },
  {
   "cell_type": "code",
   "execution_count": 77,
   "metadata": {},
   "outputs": [
    {
     "data": {
      "text/plain": [
       "['model_LE']"
      ]
     },
     "execution_count": 77,
     "metadata": {},
     "output_type": "execute_result"
    }
   ],
   "source": [
    "joblib.dump(model_baru_rf, \"model_LE\", compress=True)"
   ]
  },
  {
   "cell_type": "code",
   "execution_count": 78,
   "metadata": {},
   "outputs": [
    {
     "data": {
      "text/plain": [
       "['Scaler2']"
      ]
     },
     "execution_count": 78,
     "metadata": {},
     "output_type": "execute_result"
    }
   ],
   "source": [
    "joblib.dump(scaler.fit(df[['balance', 'day', 'duration', 'campaign','previous']]),'Scaler2')"
   ]
  }
 ],
 "metadata": {
  "kernelspec": {
   "display_name": "Python 3",
   "language": "python",
   "name": "python3"
  },
  "language_info": {
   "codemirror_mode": {
    "name": "ipython",
    "version": 3
   },
   "file_extension": ".py",
   "mimetype": "text/x-python",
   "name": "python",
   "nbconvert_exporter": "python",
   "pygments_lexer": "ipython3",
   "version": "3.8.1"
  }
 },
 "nbformat": 4,
 "nbformat_minor": 4
}
